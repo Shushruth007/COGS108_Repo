{
 "cells": [
  {
   "cell_type": "markdown",
   "metadata": {},
   "source": [
    "# COGS 108 - Data Checkpoint"
   ]
  },
  {
   "cell_type": "markdown",
   "metadata": {},
   "source": [
    "# Names\n",
    "\n",
    "- Shushruth Kallutla (A15542022)   \n",
    "- Nicholas Peterzell (A15278235)  \n",
    "- Amanda Mark (A15953259)  \n",
    "- Taylor Drennen (A15460025)  \n",
    "- Carter Nielsen (A15766670) "
   ]
  },
  {
   "cell_type": "markdown",
   "metadata": {},
   "source": [
    "<a id='research_question'></a>\n",
    "# Research Question"
   ]
  },
  {
   "cell_type": "markdown",
   "metadata": {},
   "source": [
    "Does Covid-19 inoculation rate in California correlate with the average income in a county? "
   ]
  },
  {
   "cell_type": "markdown",
   "metadata": {},
   "source": [
    "# Dataset(s)"
   ]
  },
  {
   "cell_type": "markdown",
   "metadata": {},
   "source": [
    "\n",
    "- Dataset Name: **Personal Income and and Employment by County and Metropolitan Area**\n",
    "- Link to the dataset: <https://apps.bea.gov/iTable/iTable.cfm?reqid=70&step=1&acrdn=6>\n",
    "- Number of observations: 9414\n",
    "-This dataset contains the names of all the counties in each state, total personal income (in thousands of dollars) ,population, and per capita personal income( in dollars) of each county  in 2019. e will use this dataset to extract the per capita income of all the counties in California. \n",
    "<br />\n",
    "<br />\n",
    "- Dataset Name: **Vaccine Administration by County of Residence**\n",
    "- Link to the dataset: <https://covid19.ca.gov/vaccines/#California-vaccines-dashboard>\n",
    "- Number of observations: 58\n",
    "- This dataset gives a report of the amount of Covid 19 vaccines administered by the county. The bias with this dataset is that it counts people outside of California that got vaccinated in stated count; therefore, this data may not be a complete representation of state-wide vaccination. We will use this dataset to see the number of vaccines distributed in each county of California.\n",
    "<br />\n",
    "<br />\n",
    "From the first dataset, we will extract per capita income of all the counties in California, and from the second dataset, we will get the amount of vaccines administered by each county. Those two datasets will be used to determine whether there is correlation between inoculation rate of Covid 19 vaccine and the income level of each county. \n"
   ]
  },
  {
   "cell_type": "markdown",
   "metadata": {},
   "source": [
    "# Setup"
   ]
  },
  {
   "cell_type": "code",
   "execution_count": 2,
   "metadata": {},
   "outputs": [],
   "source": [
    "import pandas as pd\n",
    "import matplotlib.pyplot as plt"
   ]
  },
  {
   "cell_type": "markdown",
   "metadata": {},
   "source": [
    "Income data from https://apps.bea.gov/iTable/iTable.cfm?reqid=70&step=1&acrdn=6"
   ]
  },
  {
   "cell_type": "code",
   "execution_count": 3,
   "metadata": {},
   "outputs": [],
   "source": [
    "income_raw = pd.read_csv(\"Datasets/IncomeByCounty.csv\")"
   ]
  },
  {
   "cell_type": "code",
   "execution_count": 4,
   "metadata": {
    "scrolled": false
   },
   "outputs": [
    {
     "name": "stdout",
     "output_type": "stream",
     "text": [
      "<class 'pandas.core.frame.DataFrame'>\n",
      "RangeIndex: 9414 entries, 0 to 9413\n",
      "Data columns (total 5 columns):\n",
      "GeoFips        9414 non-null int64\n",
      "GeoName        9414 non-null object\n",
      "LineCode       9414 non-null int64\n",
      "Description    9414 non-null object\n",
      "2019           9414 non-null object\n",
      "dtypes: int64(2), object(3)\n",
      "memory usage: 367.8+ KB\n"
     ]
    },
    {
     "data": {
      "text/html": [
       "<div>\n",
       "<style scoped>\n",
       "    .dataframe tbody tr th:only-of-type {\n",
       "        vertical-align: middle;\n",
       "    }\n",
       "\n",
       "    .dataframe tbody tr th {\n",
       "        vertical-align: top;\n",
       "    }\n",
       "\n",
       "    .dataframe thead th {\n",
       "        text-align: right;\n",
       "    }\n",
       "</style>\n",
       "<table border=\"1\" class=\"dataframe\">\n",
       "  <thead>\n",
       "    <tr style=\"text-align: right;\">\n",
       "      <th></th>\n",
       "      <th>GeoFips</th>\n",
       "      <th>GeoName</th>\n",
       "      <th>LineCode</th>\n",
       "      <th>Description</th>\n",
       "      <th>2019</th>\n",
       "    </tr>\n",
       "  </thead>\n",
       "  <tbody>\n",
       "    <tr>\n",
       "      <th>0</th>\n",
       "      <td>1001</td>\n",
       "      <td>Autauga, AL</td>\n",
       "      <td>1</td>\n",
       "      <td>Personal income (thousands of dollars)</td>\n",
       "      <td>2453617</td>\n",
       "    </tr>\n",
       "    <tr>\n",
       "      <th>1</th>\n",
       "      <td>1001</td>\n",
       "      <td>Autauga, AL</td>\n",
       "      <td>2</td>\n",
       "      <td>Population (persons) 1/</td>\n",
       "      <td>55869</td>\n",
       "    </tr>\n",
       "    <tr>\n",
       "      <th>2</th>\n",
       "      <td>1001</td>\n",
       "      <td>Autauga, AL</td>\n",
       "      <td>3</td>\n",
       "      <td>Per capita personal income (dollars) 2/</td>\n",
       "      <td>43917</td>\n",
       "    </tr>\n",
       "    <tr>\n",
       "      <th>3</th>\n",
       "      <td>1003</td>\n",
       "      <td>Baldwin, AL</td>\n",
       "      <td>1</td>\n",
       "      <td>Personal income (thousands of dollars)</td>\n",
       "      <td>10600260</td>\n",
       "    </tr>\n",
       "    <tr>\n",
       "      <th>4</th>\n",
       "      <td>1003</td>\n",
       "      <td>Baldwin, AL</td>\n",
       "      <td>2</td>\n",
       "      <td>Population (persons) 1/</td>\n",
       "      <td>223234</td>\n",
       "    </tr>\n",
       "  </tbody>\n",
       "</table>\n",
       "</div>"
      ],
      "text/plain": [
       "   GeoFips      GeoName  LineCode                              Description  \\\n",
       "0     1001  Autauga, AL         1   Personal income (thousands of dollars)   \n",
       "1     1001  Autauga, AL         2                  Population (persons) 1/   \n",
       "2     1001  Autauga, AL         3  Per capita personal income (dollars) 2/   \n",
       "3     1003  Baldwin, AL         1   Personal income (thousands of dollars)   \n",
       "4     1003  Baldwin, AL         2                  Population (persons) 1/   \n",
       "\n",
       "       2019  \n",
       "0   2453617  \n",
       "1     55869  \n",
       "2     43917  \n",
       "3  10600260  \n",
       "4    223234  "
      ]
     },
     "execution_count": 4,
     "metadata": {},
     "output_type": "execute_result"
    }
   ],
   "source": [
    "income_raw.info()\n",
    "income_raw.head()"
   ]
  },
  {
   "cell_type": "markdown",
   "metadata": {},
   "source": [
    "Vaccine Data from https://covid19.ca.gov/vaccines/#California-vaccines-dashboard  \n",
    "Data from 2/11/2021 11:59pm"
   ]
  },
  {
   "cell_type": "code",
   "execution_count": 5,
   "metadata": {},
   "outputs": [],
   "source": [
    "vaccine_count = pd.read_csv(\"Datasets/DosesAdminsteredbyCounty(California).csv\")"
   ]
  },
  {
   "cell_type": "code",
   "execution_count": 6,
   "metadata": {},
   "outputs": [
    {
     "name": "stdout",
     "output_type": "stream",
     "text": [
      "<class 'pandas.core.frame.DataFrame'>\n",
      "RangeIndex: 58 entries, 0 to 57\n",
      "Data columns (total 2 columns):\n",
      "County                58 non-null object\n",
      "Doses Administered    58 non-null object\n",
      "dtypes: object(2)\n",
      "memory usage: 1008.0+ bytes\n"
     ]
    },
    {
     "data": {
      "text/html": [
       "<div>\n",
       "<style scoped>\n",
       "    .dataframe tbody tr th:only-of-type {\n",
       "        vertical-align: middle;\n",
       "    }\n",
       "\n",
       "    .dataframe tbody tr th {\n",
       "        vertical-align: top;\n",
       "    }\n",
       "\n",
       "    .dataframe thead th {\n",
       "        text-align: right;\n",
       "    }\n",
       "</style>\n",
       "<table border=\"1\" class=\"dataframe\">\n",
       "  <thead>\n",
       "    <tr style=\"text-align: right;\">\n",
       "      <th></th>\n",
       "      <th>County</th>\n",
       "      <th>Doses Administered</th>\n",
       "    </tr>\n",
       "  </thead>\n",
       "  <tbody>\n",
       "    <tr>\n",
       "      <th>0</th>\n",
       "      <td>Los Angeles</td>\n",
       "      <td>1,314,016</td>\n",
       "    </tr>\n",
       "    <tr>\n",
       "      <th>1</th>\n",
       "      <td>San Diego</td>\n",
       "      <td>532,215</td>\n",
       "    </tr>\n",
       "    <tr>\n",
       "      <th>2</th>\n",
       "      <td>Orange</td>\n",
       "      <td>438,774</td>\n",
       "    </tr>\n",
       "    <tr>\n",
       "      <th>3</th>\n",
       "      <td>Santa Clara</td>\n",
       "      <td>271,559</td>\n",
       "    </tr>\n",
       "    <tr>\n",
       "      <th>4</th>\n",
       "      <td>Riverside</td>\n",
       "      <td>257,303</td>\n",
       "    </tr>\n",
       "  </tbody>\n",
       "</table>\n",
       "</div>"
      ],
      "text/plain": [
       "        County Doses Administered\n",
       "0  Los Angeles          1,314,016\n",
       "1    San Diego            532,215\n",
       "2       Orange            438,774\n",
       "3  Santa Clara            271,559\n",
       "4    Riverside            257,303"
      ]
     },
     "execution_count": 6,
     "metadata": {},
     "output_type": "execute_result"
    }
   ],
   "source": [
    "vaccine_count.info()\n",
    "vaccine_count.head()"
   ]
  },
  {
   "cell_type": "markdown",
   "metadata": {},
   "source": [
    "# Data Cleaning"
   ]
  },
  {
   "cell_type": "markdown",
   "metadata": {},
   "source": [
    "### Income Data Cleaning\n",
    "Row data different depending on linecode, split different linecodes into income and population rows Need county population and county income as columns and can remove other columns"
   ]
  },
  {
   "cell_type": "code",
   "execution_count": 7,
   "metadata": {},
   "outputs": [],
   "source": [
    "#Seperate data by linecode value\n",
    "group = income_raw.groupby(\"LineCode\")\n",
    "\n",
    "counties = group.get_group(1)[\"GeoName\"].reset_index()\n",
    "del counties[\"index\"]\n",
    "\n",
    "\n",
    "income_data = group.get_group(1)[\"2019\"].reset_index()\n",
    "del income_data[\"index\"]\n",
    "\n",
    "population_data = group.get_group(2)[\"2019\"].reset_index()\n",
    "del population_data[\"index\"]"
   ]
  },
  {
   "cell_type": "code",
   "execution_count": 8,
   "metadata": {},
   "outputs": [
    {
     "data": {
      "text/html": [
       "<div>\n",
       "<style scoped>\n",
       "    .dataframe tbody tr th:only-of-type {\n",
       "        vertical-align: middle;\n",
       "    }\n",
       "\n",
       "    .dataframe tbody tr th {\n",
       "        vertical-align: top;\n",
       "    }\n",
       "\n",
       "    .dataframe thead th {\n",
       "        text-align: right;\n",
       "    }\n",
       "</style>\n",
       "<table border=\"1\" class=\"dataframe\">\n",
       "  <thead>\n",
       "    <tr style=\"text-align: right;\">\n",
       "      <th></th>\n",
       "      <th>County</th>\n",
       "      <th>Total Income</th>\n",
       "      <th>Population</th>\n",
       "    </tr>\n",
       "  </thead>\n",
       "  <tbody>\n",
       "    <tr>\n",
       "      <th>0</th>\n",
       "      <td>Autauga, AL</td>\n",
       "      <td>2453617</td>\n",
       "      <td>55869</td>\n",
       "    </tr>\n",
       "    <tr>\n",
       "      <th>1</th>\n",
       "      <td>Baldwin, AL</td>\n",
       "      <td>10600260</td>\n",
       "      <td>223234</td>\n",
       "    </tr>\n",
       "    <tr>\n",
       "      <th>2</th>\n",
       "      <td>Barbour, AL</td>\n",
       "      <td>882834</td>\n",
       "      <td>24686</td>\n",
       "    </tr>\n",
       "    <tr>\n",
       "      <th>3</th>\n",
       "      <td>Bibb, AL</td>\n",
       "      <td>710451</td>\n",
       "      <td>22394</td>\n",
       "    </tr>\n",
       "    <tr>\n",
       "      <th>4</th>\n",
       "      <td>Blount, AL</td>\n",
       "      <td>2105550</td>\n",
       "      <td>57826</td>\n",
       "    </tr>\n",
       "  </tbody>\n",
       "</table>\n",
       "</div>"
      ],
      "text/plain": [
       "        County Total Income Population\n",
       "0  Autauga, AL      2453617      55869\n",
       "1  Baldwin, AL     10600260     223234\n",
       "2  Barbour, AL       882834      24686\n",
       "3     Bibb, AL       710451      22394\n",
       "4   Blount, AL      2105550      57826"
      ]
     },
     "execution_count": 8,
     "metadata": {},
     "output_type": "execute_result"
    }
   ],
   "source": [
    "county_data = pd.DataFrame(counties)\n",
    "county_data = county_data.rename(columns={\"GeoName\": \"County\"})\n",
    "\n",
    "county_data[\"Total Income\"] = income_data\n",
    "county_data[\"Population\"] = population_data\n",
    "\n",
    "county_data.head()"
   ]
  },
  {
   "cell_type": "code",
   "execution_count": 9,
   "metadata": {},
   "outputs": [
    {
     "data": {
      "text/plain": [
       "County          object\n",
       "Total Income     int64\n",
       "Population       int64\n",
       "dtype: object"
      ]
     },
     "execution_count": 9,
     "metadata": {},
     "output_type": "execute_result"
    }
   ],
   "source": [
    "#Remove NA from Dataset for accurate int datatype\n",
    "county_data = county_data.replace(\"(NA)\", \"1\")\n",
    "#Convert object data to int\n",
    "county_data[\"Total Income\"] = pd.to_numeric(county_data[\"Total Income\"])\n",
    "county_data[\"Population\"] = pd.to_numeric(county_data[\"Population\"])\n",
    "\n",
    "county_data.dtypes.head()"
   ]
  },
  {
   "cell_type": "code",
   "execution_count": 10,
   "metadata": {},
   "outputs": [
    {
     "data": {
      "text/html": [
       "<div>\n",
       "<style scoped>\n",
       "    .dataframe tbody tr th:only-of-type {\n",
       "        vertical-align: middle;\n",
       "    }\n",
       "\n",
       "    .dataframe tbody tr th {\n",
       "        vertical-align: top;\n",
       "    }\n",
       "\n",
       "    .dataframe thead th {\n",
       "        text-align: right;\n",
       "    }\n",
       "</style>\n",
       "<table border=\"1\" class=\"dataframe\">\n",
       "  <thead>\n",
       "    <tr style=\"text-align: right;\">\n",
       "      <th></th>\n",
       "      <th>County</th>\n",
       "      <th>Total Income</th>\n",
       "      <th>Population</th>\n",
       "      <th>Income per Capita</th>\n",
       "    </tr>\n",
       "  </thead>\n",
       "  <tbody>\n",
       "    <tr>\n",
       "      <th>0</th>\n",
       "      <td>Autauga, AL</td>\n",
       "      <td>2453617</td>\n",
       "      <td>55869</td>\n",
       "      <td>43.917324</td>\n",
       "    </tr>\n",
       "    <tr>\n",
       "      <th>1</th>\n",
       "      <td>Baldwin, AL</td>\n",
       "      <td>10600260</td>\n",
       "      <td>223234</td>\n",
       "      <td>47.484971</td>\n",
       "    </tr>\n",
       "    <tr>\n",
       "      <th>2</th>\n",
       "      <td>Barbour, AL</td>\n",
       "      <td>882834</td>\n",
       "      <td>24686</td>\n",
       "      <td>35.762537</td>\n",
       "    </tr>\n",
       "    <tr>\n",
       "      <th>3</th>\n",
       "      <td>Bibb, AL</td>\n",
       "      <td>710451</td>\n",
       "      <td>22394</td>\n",
       "      <td>31.725060</td>\n",
       "    </tr>\n",
       "    <tr>\n",
       "      <th>4</th>\n",
       "      <td>Blount, AL</td>\n",
       "      <td>2105550</td>\n",
       "      <td>57826</td>\n",
       "      <td>36.411822</td>\n",
       "    </tr>\n",
       "  </tbody>\n",
       "</table>\n",
       "</div>"
      ],
      "text/plain": [
       "        County  Total Income  Population  Income per Capita\n",
       "0  Autauga, AL       2453617       55869          43.917324\n",
       "1  Baldwin, AL      10600260      223234          47.484971\n",
       "2  Barbour, AL        882834       24686          35.762537\n",
       "3     Bibb, AL        710451       22394          31.725060\n",
       "4   Blount, AL       2105550       57826          36.411822"
      ]
     },
     "execution_count": 10,
     "metadata": {},
     "output_type": "execute_result"
    }
   ],
   "source": [
    "#Calculate Income per Capita\n",
    "percapitaincome = county_data.apply(lambda row: row[\"Total Income\"] / row[\"Population\"], axis = 1).reset_index()\n",
    "del percapitaincome[\"index\"]\n",
    "county_data[\"Income per Capita\"] = percapitaincome\n",
    "county_data.to_csv(\"CleanedIncomePerCapita.csv\")\n",
    "county_data.head()"
   ]
  },
  {
   "cell_type": "code",
   "execution_count": 11,
   "metadata": {},
   "outputs": [
    {
     "data": {
      "text/html": [
       "<div>\n",
       "<style scoped>\n",
       "    .dataframe tbody tr th:only-of-type {\n",
       "        vertical-align: middle;\n",
       "    }\n",
       "\n",
       "    .dataframe tbody tr th {\n",
       "        vertical-align: top;\n",
       "    }\n",
       "\n",
       "    .dataframe thead th {\n",
       "        text-align: right;\n",
       "    }\n",
       "</style>\n",
       "<table border=\"1\" class=\"dataframe\">\n",
       "  <thead>\n",
       "    <tr style=\"text-align: right;\">\n",
       "      <th></th>\n",
       "      <th>County</th>\n",
       "      <th>Total Income</th>\n",
       "      <th>Population</th>\n",
       "      <th>Income per Capita</th>\n",
       "    </tr>\n",
       "  </thead>\n",
       "  <tbody>\n",
       "    <tr>\n",
       "      <th>0</th>\n",
       "      <td>Autauga, AL</td>\n",
       "      <td>2453617000</td>\n",
       "      <td>55869</td>\n",
       "      <td>43917.324455</td>\n",
       "    </tr>\n",
       "    <tr>\n",
       "      <th>1</th>\n",
       "      <td>Baldwin, AL</td>\n",
       "      <td>10600260000</td>\n",
       "      <td>223234</td>\n",
       "      <td>47484.970927</td>\n",
       "    </tr>\n",
       "    <tr>\n",
       "      <th>2</th>\n",
       "      <td>Barbour, AL</td>\n",
       "      <td>882834000</td>\n",
       "      <td>24686</td>\n",
       "      <td>35762.537471</td>\n",
       "    </tr>\n",
       "    <tr>\n",
       "      <th>3</th>\n",
       "      <td>Bibb, AL</td>\n",
       "      <td>710451000</td>\n",
       "      <td>22394</td>\n",
       "      <td>31725.060284</td>\n",
       "    </tr>\n",
       "    <tr>\n",
       "      <th>4</th>\n",
       "      <td>Blount, AL</td>\n",
       "      <td>2105550000</td>\n",
       "      <td>57826</td>\n",
       "      <td>36411.821672</td>\n",
       "    </tr>\n",
       "  </tbody>\n",
       "</table>\n",
       "</div>"
      ],
      "text/plain": [
       "        County  Total Income  Population  Income per Capita\n",
       "0  Autauga, AL    2453617000       55869       43917.324455\n",
       "1  Baldwin, AL   10600260000      223234       47484.970927\n",
       "2  Barbour, AL     882834000       24686       35762.537471\n",
       "3     Bibb, AL     710451000       22394       31725.060284\n",
       "4   Blount, AL    2105550000       57826       36411.821672"
      ]
     },
     "execution_count": 11,
     "metadata": {},
     "output_type": "execute_result"
    }
   ],
   "source": [
    "#Total Income and Income per Capita columns are in the thousands,\n",
    "#so it would be easier to convert them to an accurate count\n",
    "county_data[\"Total Income\"] = 1000 *county_data[\"Total Income\"]\n",
    "county_data[\"Income per Capita\"] = 1000 * county_data[\"Income per Capita\"]\n",
    "county_data.head()"
   ]
  },
  {
   "cell_type": "code",
   "execution_count": 12,
   "metadata": {},
   "outputs": [],
   "source": [
    "#Seperate County and State\n",
    "count_state_temp = county_data[\"County\"].str.split(\", \", n = 1, expand = True) \n",
    "county_data.drop(columns =[\"County\"], inplace = True) \n",
    "\n",
    "county_data[\"County\"] = count_state_temp[0]\n",
    "county_data[\"State\"] = count_state_temp[1]"
   ]
  },
  {
   "cell_type": "code",
   "execution_count": 13,
   "metadata": {},
   "outputs": [
    {
     "data": {
      "text/html": [
       "<div>\n",
       "<style scoped>\n",
       "    .dataframe tbody tr th:only-of-type {\n",
       "        vertical-align: middle;\n",
       "    }\n",
       "\n",
       "    .dataframe tbody tr th {\n",
       "        vertical-align: top;\n",
       "    }\n",
       "\n",
       "    .dataframe thead th {\n",
       "        text-align: right;\n",
       "    }\n",
       "</style>\n",
       "<table border=\"1\" class=\"dataframe\">\n",
       "  <thead>\n",
       "    <tr style=\"text-align: right;\">\n",
       "      <th></th>\n",
       "      <th>Total Income</th>\n",
       "      <th>Population</th>\n",
       "      <th>Income per Capita</th>\n",
       "      <th>County</th>\n",
       "      <th>State</th>\n",
       "    </tr>\n",
       "  </thead>\n",
       "  <tbody>\n",
       "    <tr>\n",
       "      <th>0</th>\n",
       "      <td>2453617000</td>\n",
       "      <td>55869</td>\n",
       "      <td>43917.324455</td>\n",
       "      <td>Autauga</td>\n",
       "      <td>AL</td>\n",
       "    </tr>\n",
       "    <tr>\n",
       "      <th>1</th>\n",
       "      <td>10600260000</td>\n",
       "      <td>223234</td>\n",
       "      <td>47484.970927</td>\n",
       "      <td>Baldwin</td>\n",
       "      <td>AL</td>\n",
       "    </tr>\n",
       "    <tr>\n",
       "      <th>2</th>\n",
       "      <td>882834000</td>\n",
       "      <td>24686</td>\n",
       "      <td>35762.537471</td>\n",
       "      <td>Barbour</td>\n",
       "      <td>AL</td>\n",
       "    </tr>\n",
       "    <tr>\n",
       "      <th>3</th>\n",
       "      <td>710451000</td>\n",
       "      <td>22394</td>\n",
       "      <td>31725.060284</td>\n",
       "      <td>Bibb</td>\n",
       "      <td>AL</td>\n",
       "    </tr>\n",
       "    <tr>\n",
       "      <th>4</th>\n",
       "      <td>2105550000</td>\n",
       "      <td>57826</td>\n",
       "      <td>36411.821672</td>\n",
       "      <td>Blount</td>\n",
       "      <td>AL</td>\n",
       "    </tr>\n",
       "  </tbody>\n",
       "</table>\n",
       "</div>"
      ],
      "text/plain": [
       "   Total Income  Population  Income per Capita   County State\n",
       "0    2453617000       55869       43917.324455  Autauga    AL\n",
       "1   10600260000      223234       47484.970927  Baldwin    AL\n",
       "2     882834000       24686       35762.537471  Barbour    AL\n",
       "3     710451000       22394       31725.060284     Bibb    AL\n",
       "4    2105550000       57826       36411.821672   Blount    AL"
      ]
     },
     "execution_count": 13,
     "metadata": {},
     "output_type": "execute_result"
    }
   ],
   "source": [
    "county_data.head()"
   ]
  },
  {
   "cell_type": "code",
   "execution_count": null,
   "metadata": {},
   "outputs": [],
   "source": []
  },
  {
   "cell_type": "code",
   "execution_count": 13,
   "metadata": {},
   "outputs": [
    {
     "data": {
      "text/html": [
       "<div>\n",
       "<style scoped>\n",
       "    .dataframe tbody tr th:only-of-type {\n",
       "        vertical-align: middle;\n",
       "    }\n",
       "\n",
       "    .dataframe tbody tr th {\n",
       "        vertical-align: top;\n",
       "    }\n",
       "\n",
       "    .dataframe thead th {\n",
       "        text-align: right;\n",
       "    }\n",
       "</style>\n",
       "<table border=\"1\" class=\"dataframe\">\n",
       "  <thead>\n",
       "    <tr style=\"text-align: right;\">\n",
       "      <th></th>\n",
       "      <th>Total Income</th>\n",
       "      <th>Population</th>\n",
       "      <th>Income per Capita</th>\n",
       "      <th>County</th>\n",
       "      <th>State</th>\n",
       "    </tr>\n",
       "  </thead>\n",
       "  <tbody>\n",
       "    <tr>\n",
       "      <th>210</th>\n",
       "      <td>135663560000</td>\n",
       "      <td>1671329</td>\n",
       "      <td>81171.068054</td>\n",
       "      <td>Alameda</td>\n",
       "      <td>CA</td>\n",
       "    </tr>\n",
       "    <tr>\n",
       "      <th>211</th>\n",
       "      <td>81463000</td>\n",
       "      <td>1129</td>\n",
       "      <td>72155.004429</td>\n",
       "      <td>Alpine</td>\n",
       "      <td>CA</td>\n",
       "    </tr>\n",
       "    <tr>\n",
       "      <th>212</th>\n",
       "      <td>1825410000</td>\n",
       "      <td>39752</td>\n",
       "      <td>45919.953713</td>\n",
       "      <td>Amador</td>\n",
       "      <td>CA</td>\n",
       "    </tr>\n",
       "    <tr>\n",
       "      <th>213</th>\n",
       "      <td>10490209000</td>\n",
       "      <td>219186</td>\n",
       "      <td>47859.849625</td>\n",
       "      <td>Butte</td>\n",
       "      <td>CA</td>\n",
       "    </tr>\n",
       "    <tr>\n",
       "      <th>214</th>\n",
       "      <td>2347168000</td>\n",
       "      <td>45905</td>\n",
       "      <td>51130.987910</td>\n",
       "      <td>Calaveras</td>\n",
       "      <td>CA</td>\n",
       "    </tr>\n",
       "  </tbody>\n",
       "</table>\n",
       "</div>"
      ],
      "text/plain": [
       "     Total Income  Population  Income per Capita     County State\n",
       "210  135663560000     1671329       81171.068054    Alameda    CA\n",
       "211      81463000        1129       72155.004429     Alpine    CA\n",
       "212    1825410000       39752       45919.953713     Amador    CA\n",
       "213   10490209000      219186       47859.849625      Butte    CA\n",
       "214    2347168000       45905       51130.987910  Calaveras    CA"
      ]
     },
     "execution_count": 13,
     "metadata": {},
     "output_type": "execute_result"
    }
   ],
   "source": [
    "#filter only california counties\n",
    "cal_income = county_data[(county_data.State == \"CA\")]\n",
    "cal_income.head()"
   ]
  },
  {
   "cell_type": "code",
   "execution_count": 14,
   "metadata": {},
   "outputs": [
    {
     "data": {
      "text/html": [
       "<div>\n",
       "<style scoped>\n",
       "    .dataframe tbody tr th:only-of-type {\n",
       "        vertical-align: middle;\n",
       "    }\n",
       "\n",
       "    .dataframe tbody tr th {\n",
       "        vertical-align: top;\n",
       "    }\n",
       "\n",
       "    .dataframe thead th {\n",
       "        text-align: right;\n",
       "    }\n",
       "</style>\n",
       "<table border=\"1\" class=\"dataframe\">\n",
       "  <thead>\n",
       "    <tr style=\"text-align: right;\">\n",
       "      <th></th>\n",
       "      <th>Total Income</th>\n",
       "      <th>Population</th>\n",
       "      <th>Income per Capita</th>\n",
       "      <th>County</th>\n",
       "    </tr>\n",
       "  </thead>\n",
       "  <tbody>\n",
       "    <tr>\n",
       "      <th>210</th>\n",
       "      <td>135663560000</td>\n",
       "      <td>1671329</td>\n",
       "      <td>81171.068054</td>\n",
       "      <td>Alameda</td>\n",
       "    </tr>\n",
       "    <tr>\n",
       "      <th>211</th>\n",
       "      <td>81463000</td>\n",
       "      <td>1129</td>\n",
       "      <td>72155.004429</td>\n",
       "      <td>Alpine</td>\n",
       "    </tr>\n",
       "    <tr>\n",
       "      <th>212</th>\n",
       "      <td>1825410000</td>\n",
       "      <td>39752</td>\n",
       "      <td>45919.953713</td>\n",
       "      <td>Amador</td>\n",
       "    </tr>\n",
       "    <tr>\n",
       "      <th>213</th>\n",
       "      <td>10490209000</td>\n",
       "      <td>219186</td>\n",
       "      <td>47859.849625</td>\n",
       "      <td>Butte</td>\n",
       "    </tr>\n",
       "    <tr>\n",
       "      <th>214</th>\n",
       "      <td>2347168000</td>\n",
       "      <td>45905</td>\n",
       "      <td>51130.987910</td>\n",
       "      <td>Calaveras</td>\n",
       "    </tr>\n",
       "  </tbody>\n",
       "</table>\n",
       "</div>"
      ],
      "text/plain": [
       "     Total Income  Population  Income per Capita     County\n",
       "210  135663560000     1671329       81171.068054    Alameda\n",
       "211      81463000        1129       72155.004429     Alpine\n",
       "212    1825410000       39752       45919.953713     Amador\n",
       "213   10490209000      219186       47859.849625      Butte\n",
       "214    2347168000       45905       51130.987910  Calaveras"
      ]
     },
     "execution_count": 14,
     "metadata": {},
     "output_type": "execute_result"
    }
   ],
   "source": [
    "#Removing the state column now that all samples are from CA\n",
    "cal_income = cal_income.drop([\"State\"], axis=1)\n",
    "cal_income.head()"
   ]
  },
  {
   "cell_type": "code",
   "execution_count": 21,
   "metadata": {},
   "outputs": [
    {
     "data": {
      "text/html": [
       "<div>\n",
       "<style scoped>\n",
       "    .dataframe tbody tr th:only-of-type {\n",
       "        vertical-align: middle;\n",
       "    }\n",
       "\n",
       "    .dataframe tbody tr th {\n",
       "        vertical-align: top;\n",
       "    }\n",
       "\n",
       "    .dataframe thead th {\n",
       "        text-align: right;\n",
       "    }\n",
       "</style>\n",
       "<table border=\"1\" class=\"dataframe\">\n",
       "  <thead>\n",
       "    <tr style=\"text-align: right;\">\n",
       "      <th></th>\n",
       "      <th>County</th>\n",
       "      <th>Total Income</th>\n",
       "      <th>Population</th>\n",
       "      <th>Income per Capita</th>\n",
       "    </tr>\n",
       "  </thead>\n",
       "  <tbody>\n",
       "    <tr>\n",
       "      <th>210</th>\n",
       "      <td>Alameda</td>\n",
       "      <td>135663560000</td>\n",
       "      <td>1671329</td>\n",
       "      <td>81171.068054</td>\n",
       "    </tr>\n",
       "    <tr>\n",
       "      <th>211</th>\n",
       "      <td>Alpine</td>\n",
       "      <td>81463000</td>\n",
       "      <td>1129</td>\n",
       "      <td>72155.004429</td>\n",
       "    </tr>\n",
       "    <tr>\n",
       "      <th>212</th>\n",
       "      <td>Amador</td>\n",
       "      <td>1825410000</td>\n",
       "      <td>39752</td>\n",
       "      <td>45919.953713</td>\n",
       "    </tr>\n",
       "    <tr>\n",
       "      <th>213</th>\n",
       "      <td>Butte</td>\n",
       "      <td>10490209000</td>\n",
       "      <td>219186</td>\n",
       "      <td>47859.849625</td>\n",
       "    </tr>\n",
       "    <tr>\n",
       "      <th>214</th>\n",
       "      <td>Calaveras</td>\n",
       "      <td>2347168000</td>\n",
       "      <td>45905</td>\n",
       "      <td>51130.987910</td>\n",
       "    </tr>\n",
       "  </tbody>\n",
       "</table>\n",
       "</div>"
      ],
      "text/plain": [
       "        County  Total Income  Population  Income per Capita\n",
       "210    Alameda  135663560000     1671329       81171.068054\n",
       "211     Alpine      81463000        1129       72155.004429\n",
       "212     Amador    1825410000       39752       45919.953713\n",
       "213      Butte   10490209000      219186       47859.849625\n",
       "214  Calaveras    2347168000       45905       51130.987910"
      ]
     },
     "execution_count": 21,
     "metadata": {},
     "output_type": "execute_result"
    }
   ],
   "source": [
    "#Moving the County column to the first position\n",
    "cal_income = cal_income[['County', 'Total Income', 'Population', 'Income per Capita']]\n",
    "cal_income.head()"
   ]
  },
  {
   "cell_type": "markdown",
   "metadata": {},
   "source": [
    "### Merge Datasets"
   ]
  },
  {
   "cell_type": "code",
   "execution_count": 22,
   "metadata": {},
   "outputs": [
    {
     "name": "stdout",
     "output_type": "stream",
     "text": [
      "<class 'pandas.core.frame.DataFrame'>\n",
      "Int64Index: 58 entries, 0 to 57\n",
      "Data columns (total 5 columns):\n",
      "County                58 non-null object\n",
      "Total Income          58 non-null int64\n",
      "Population            58 non-null int64\n",
      "Income per Capita     58 non-null float64\n",
      "Doses Administered    58 non-null object\n",
      "dtypes: float64(1), int64(2), object(2)\n",
      "memory usage: 2.7+ KB\n"
     ]
    },
    {
     "data": {
      "text/html": [
       "<div>\n",
       "<style scoped>\n",
       "    .dataframe tbody tr th:only-of-type {\n",
       "        vertical-align: middle;\n",
       "    }\n",
       "\n",
       "    .dataframe tbody tr th {\n",
       "        vertical-align: top;\n",
       "    }\n",
       "\n",
       "    .dataframe thead th {\n",
       "        text-align: right;\n",
       "    }\n",
       "</style>\n",
       "<table border=\"1\" class=\"dataframe\">\n",
       "  <thead>\n",
       "    <tr style=\"text-align: right;\">\n",
       "      <th></th>\n",
       "      <th>County</th>\n",
       "      <th>Total Income</th>\n",
       "      <th>Population</th>\n",
       "      <th>Income per Capita</th>\n",
       "      <th>Doses Administered</th>\n",
       "    </tr>\n",
       "  </thead>\n",
       "  <tbody>\n",
       "    <tr>\n",
       "      <th>0</th>\n",
       "      <td>Alameda</td>\n",
       "      <td>135663560000</td>\n",
       "      <td>1671329</td>\n",
       "      <td>81171.068054</td>\n",
       "      <td>216,440</td>\n",
       "    </tr>\n",
       "    <tr>\n",
       "      <th>1</th>\n",
       "      <td>Alpine</td>\n",
       "      <td>81463000</td>\n",
       "      <td>1129</td>\n",
       "      <td>72155.004429</td>\n",
       "      <td>362</td>\n",
       "    </tr>\n",
       "    <tr>\n",
       "      <th>2</th>\n",
       "      <td>Amador</td>\n",
       "      <td>1825410000</td>\n",
       "      <td>39752</td>\n",
       "      <td>45919.953713</td>\n",
       "      <td>4,777</td>\n",
       "    </tr>\n",
       "    <tr>\n",
       "      <th>3</th>\n",
       "      <td>Butte</td>\n",
       "      <td>10490209000</td>\n",
       "      <td>219186</td>\n",
       "      <td>47859.849625</td>\n",
       "      <td>39,012</td>\n",
       "    </tr>\n",
       "    <tr>\n",
       "      <th>4</th>\n",
       "      <td>Calaveras</td>\n",
       "      <td>2347168000</td>\n",
       "      <td>45905</td>\n",
       "      <td>51130.987910</td>\n",
       "      <td>5,568</td>\n",
       "    </tr>\n",
       "  </tbody>\n",
       "</table>\n",
       "</div>"
      ],
      "text/plain": [
       "      County  Total Income  Population  Income per Capita Doses Administered\n",
       "0    Alameda  135663560000     1671329       81171.068054            216,440\n",
       "1     Alpine      81463000        1129       72155.004429                362\n",
       "2     Amador    1825410000       39752       45919.953713              4,777\n",
       "3      Butte   10490209000      219186       47859.849625             39,012\n",
       "4  Calaveras    2347168000       45905       51130.987910              5,568"
      ]
     },
     "execution_count": 22,
     "metadata": {},
     "output_type": "execute_result"
    }
   ],
   "source": [
    "merged = cal_income.merge(vaccine_count, \"inner\", \"County\")\n",
    "merged.info()\n",
    "merged.head()"
   ]
  },
  {
   "cell_type": "markdown",
   "metadata": {},
   "source": [
    "# Project Proposal (updated)"
   ]
  },
  {
   "cell_type": "markdown",
   "metadata": {},
   "source": [
    "## Project Timeline\n",
    "\n",
    "Meeting Date | Completed Before Meeting | Discuss at Meeting\n",
    "--- | --- | ---\n",
    "1/22 | Read & Think about COGS 108 expectations; brainstorm topics/questions | Determine best form of communication; Discuss and decide on final project topic; discuss hypothesis; begin background research  \n",
    "1/25 | Do background research on topic | Discuss ideal dataset(s) and ethics; draft project proposal  \n",
    "1/29 | Edit, finalize, and submit proposal; Search for datasets | Discuss Wrangling and possible analytical approaches; Assign group members to lead each specific part  \n",
    "2/12 | Import & Wrangle Data  | Review/Edit wrangling/EDA; Discuss Analysis Plan  \n",
    "2/26 | Finalize wrangling/EDA | Discuss/edit Analysis; Complete project check-in  \n",
    "3/12 | Complete analysis; Draft results/conclusion/discussion | Discuss/edit full project\n",
    "3/17 | N/A | Turn in Final Project & Group Project Surveys"
   ]
  },
  {
   "cell_type": "code",
   "execution_count": null,
   "metadata": {},
   "outputs": [],
   "source": []
  }
 ],
 "metadata": {
  "kernelspec": {
   "display_name": "Python 3",
   "language": "python",
   "name": "python3"
  },
  "language_info": {
   "codemirror_mode": {
    "name": "ipython",
    "version": 3
   },
   "file_extension": ".py",
   "mimetype": "text/x-python",
   "name": "python",
   "nbconvert_exporter": "python",
   "pygments_lexer": "ipython3",
   "version": "3.7.3"
  }
 },
 "nbformat": 4,
 "nbformat_minor": 2
}
