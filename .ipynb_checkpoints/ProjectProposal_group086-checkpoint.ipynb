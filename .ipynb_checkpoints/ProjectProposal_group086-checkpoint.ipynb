{
 "cells": [
  {
   "cell_type": "markdown",
   "metadata": {},
   "source": [
    "# COGS 108 - Final Project Proposal"
   ]
  },
  {
   "cell_type": "markdown",
   "metadata": {},
   "source": [
    "## Names\n",
    "- Shushruth Kallutla (A15542022)   \n",
    "- Nicholas Peterzell (A15278235)  \n",
    "- Amanda Mark (A15953259)  \n",
    "- Taylor Drennen (A15460025)  \n",
    "- Carter Nielsen (A15766670)  \n"
   ]
  },
  {
   "cell_type": "markdown",
   "metadata": {},
   "source": [
    "## Research Question\n",
    "Does Covid-19 inoculation rate in the United States correlate with average household income? \n"
   ]
  },
  {
   "cell_type": "markdown",
   "metadata": {},
   "source": [
    "## Background and Prior Work\n",
    "With the massive rollout of the different Covid-19 vaccines, we wanted to see where these doses were going, and whether there were any factors that affected this distribution. Are current vaccination efforts equitable and reaching the people that need it the most? To that end, we decided to look into how the level of wealth in a county relates to the amount of vaccine being shipped there.  \n",
    "  \n",
    "From one of the sources we looked at (source 1), AstraZeneca, Pfizer, and Moderna, the three manufacturers currently producing the vaccine, are estimated to produce 5.3 billion doses before the end of 2021; knowing where those are going could prove useful.  Furthermore, there are at least 6 other vaccines being worked on at the moment, which could increase these numbers more. We might need to incorporate unexpected data into our analysis at some point in the process if something significant changes, such as an increase in manufacturing rate or the release of a new vaccine. \n",
    "  \n",
    "Another article we read (source 2) explained that West Virginia, one of the states with the lowest rate of poverty, was being much more effective in its distribution of the vaccine than Maryland, which is the state with the second lowest rate of poverty. This is caused by several factors, including West Virginia’s choice to distribute the vaccine through the more widespread independent pharmacies, which were already in a good location to serve the high-risk locations such as nursing homes, as well as already having the information of patients in those locations. Furthermore, Maryland is made up of counties that are very independent, and have seen a large disparity in their inoculation rates. This last point especially informed our choice of using counties as the scale of measurement in our analysis.  \n",
    "  \n",
    "The third article we read (source 3) said that there is a difference in the distribution method in all states, not just the two mentioned before. It also explained that the federal government distributes the vaccines to the states based on total population, and many vaccines sit idle after they arrive while the state government figures out the best way to divide them up.\n",
    "Finally, there is existing data on this realm of study; the CDC has released publicly available datasets on the status of Covid-19 and the progress of vaccinations (source 4). This should prove invaluable to our project, both in the datasets it provides as well as the graphs giving us an easy way to understand important data.  \n"
   ]
  },
  {
   "cell_type": "markdown",
   "metadata": {},
   "source": [
    "#### References:\n",
    "1. *Mullard, Asher. “How COVID Vaccines Are Being Divvied up around the World.” Nature News, Nature Publishing Group, 30 Nov.   2020, www.nature.com/articles/d41586-020-03370-6.*\n",
    "2. *Galston, William A. “COVID-19 Vaccinations: Why Are Some States and Localities so Much More Successful?” Brookings, Brookings, 26 Jan. 2021, www.brookings.edu/blog/fixgov/2021/01/25/covid-19-vaccinations-why-are-some-states-and-localities-so-much-more-successful/.*  \n",
    "3. *Huang, Pien, and Audrey Carlsen. “How Is The COVID-19 Vaccination Campaign Going In Your State?” NPR, NPR, 28 Jan. 2021, www.npr.org/sections/health-shots/2021/01/28/960901166/how-is-the-covid-19-vaccination-campaign-going-in-your-state.*  \n",
    "4. *U.S Department of Health and Human Services. “CDC COVID Data Tracker.” Centers for Disease Control and Prevention, Centers for Disease Control and Prevention, covid.cdc.gov/covid-data-tracker/#datatracker-home.*\n"
   ]
  },
  {
   "cell_type": "markdown",
   "metadata": {},
   "source": [
    "## Hypothesis\n",
    "We believe that higher-income communities will have a lower vaccination rate. "
   ]
  },
  {
   "cell_type": "markdown",
   "metadata": {},
   "source": [
    "## Data\n",
    "To answer our research question two datasets would be required: one with socioeconomic information (Average Wealth, Average Income, etc.) listed by county and vaccine inoculation data listed by all of United States counties. An ideal dataset would be easy to combine columns by county and therefore relate vaccine inoculation information to income.  \n",
    "Using the data set we will take the inoculation rate and the wealth distribution in each county, and sort them both in descending order. The inoculation rate can be calculated with the total population of the county and the amount of vaccines distributed in that county.  \n",
    "We can map both data sets in one map to visually see the correlation between the wealth distribution and COVD-19 vaccine distribution.  \n"
   ]
  },
  {
   "cell_type": "markdown",
   "metadata": {},
   "source": [
    "## Ethics & Privacy\n",
    "Our research could potentially identify vaccine distribution patterns that could influence future distribution strategies. Our analysis could also highlight vulnerable communities that could be exploited by malicious forces. If our data shows a strong correlation between the average income of a community and the distribution rate of the Covid-19 vaccines, it could reveal an ethical issue within the medical practices occurring during the Coronavirus pandemic.   \n",
    "  \n",
    "Our datasets will not contain personally identifying information, and we are doing no data collection or surveying as our datasets are curated by the CDC and made publicly available. The CDC recently admitted to falsely reporting the Covid-19 death figures in 2020 and have previously accepted private donations. These factors could contribute to potential biases in the datasets. Due to the admission of false reports by the CDC, we are aware that this could occur again, and the CDC data is being closely watched by officials and personnel to try to prevent a recurrence. There are other biases that may exist from the fact that COVID-19 vaccines distribution is fairly new and there is a fair chance that our analysis will not apply to the future data. Should biases within our datasets be uncovered, we will accurately inform people of the findings in our project report and keep the biases in mind while writing our final reports.\n"
   ]
  },
  {
   "cell_type": "markdown",
   "metadata": {},
   "source": [
    "## Team Expectations\n",
    "- All communication will be done on Discord.\n",
    "- Participate in regular work progress check ins \n",
    "- We will meet up on an as-needed basis, aiming for at least once a week.\n"
   ]
  },
  {
   "cell_type": "markdown",
   "metadata": {},
   "source": [
    "## Project Timeline\n",
    "\n",
    "Meeting Date | Completed Before Meeting | Discuss at Meeting\n",
    "--- | --- | ---\n",
    "1/22 | Read & Think about COGS 108 expectations; brainstorm topics/questions | Determine best form of communication; Discuss and decide on final project topic; discuss hypothesis; begin background research  \n",
    "1/25 | Do background research on topic | Discuss ideal dataset(s) and ethics; draft project proposal  \n",
    "1/29 | Edit, finalize, and submit proposal; Search for datasets | Discuss Wrangling and possible analytical approaches; Assign group members to lead each specific part  \n",
    "2/12 | Import & Wrangle Data  | Review/Edit wrangling/EDA; Discuss Analysis Plan  \n",
    "2/26 | Finalize wrangling/EDA | Discuss/edit Analysis; Complete project check-in  \n",
    "3/12 | Complete analysis; Draft results/conclusion/discussion | Discuss/edit full project\n",
    "3/17 | N/A | Turn in Final Project & Group Project Surveys"
   ]
  }
 ],
 "metadata": {
  "kernelspec": {
   "display_name": "Python 3",
   "language": "python",
   "name": "python3"
  },
  "language_info": {
   "codemirror_mode": {
    "name": "ipython",
    "version": 3
   },
   "file_extension": ".py",
   "mimetype": "text/x-python",
   "name": "python",
   "nbconvert_exporter": "python",
   "pygments_lexer": "ipython3",
   "version": "3.8.5"
  }
 },
 "nbformat": 4,
 "nbformat_minor": 2
}
