{
 "cells": [
  {
   "cell_type": "markdown",
   "metadata": {},
   "source": [
    "# COGS 108 - EDA Checkpoint"
   ]
  },
  {
   "cell_type": "markdown",
   "metadata": {},
   "source": [
    "# Names\n",
    "\n",
    "- Ant Man\n",
    "- Hulk\n",
    "- Iron Man\n",
    "- Thor\n",
    "- Wasp"
   ]
  },
  {
   "cell_type": "markdown",
   "metadata": {},
   "source": [
    "<a id='research_question'></a>\n",
    "# Research Question"
   ]
  },
  {
   "cell_type": "markdown",
   "metadata": {},
   "source": [
    "*Fill in your research question here*"
   ]
  },
  {
   "cell_type": "markdown",
   "metadata": {},
   "source": [
    "# Setup"
   ]
  },
  {
   "cell_type": "code",
   "execution_count": 1,
   "metadata": {},
   "outputs": [],
   "source": [
    "import pandas as pd\n",
    "import matplotlib.pyplot as plt\n",
    "import scipy.stats as stat"
   ]
  },
  {
   "cell_type": "markdown",
   "metadata": {},
   "source": [
    "# Data Cleaning"
   ]
  },
  {
   "cell_type": "markdown",
   "metadata": {},
   "source": [
    "Describe your data cleaning steps here."
   ]
  },
  {
   "cell_type": "code",
   "execution_count": 2,
   "metadata": {},
   "outputs": [],
   "source": [
    "income_raw = pd.read_csv(\"Datasets/IncomeByCounty.csv\")\n",
    "vaccine_count_cal = pd.read_csv(\"Datasets/DosesAdminsteredbyCounty(California).csv\", thousands=',')\n",
    "vaccine_count_wash = pd.read_csv(\"Datasets/Doses(Washington).csv\", thousands=',')\n",
    "vaccine_count_geor = pd.read_csv(\"Datasets/Georgia Doses.csv\", thousands=',')\n",
    "vaccine_count_ohio = pd.read_csv(\"Datasets/Ohio Doses.csv\", thousands=',')\n",
    "vaccine_count_ariz = pd.read_csv(\"Datasets/Arizona Doses.csv\", thousands=',')\n",
    "\n",
    "group = income_raw.groupby(\"LineCode\")\n",
    "\n",
    "counties = group.get_group(1)[\"GeoName\"].reset_index()\n",
    "del counties[\"index\"]\n",
    "\n",
    "\n",
    "income_data = group.get_group(1)[\"2019\"].reset_index()\n",
    "del income_data[\"index\"]\n",
    "\n",
    "population_data = group.get_group(2)[\"2019\"].reset_index()\n",
    "del population_data[\"index\"]\n",
    "\n",
    "county_data = pd.DataFrame(counties)\n",
    "county_data = county_data.rename(columns={\"GeoName\": \"County\"})\n",
    "\n",
    "county_data[\"Total Income\"] = income_data\n",
    "county_data[\"Population\"] = population_data\n",
    "\n",
    "\n",
    "#Remove NA from Dataset for accurate int datatype\n",
    "county_data = county_data.replace(\"(NA)\", \"1\")\n",
    "#Convert object data to int\n",
    "county_data[\"Total Income\"] = pd.to_numeric(county_data[\"Total Income\"])\n",
    "county_data[\"Population\"] = pd.to_numeric(county_data[\"Population\"])\n",
    "\n",
    "\n",
    "#Calculate Income per Capita\n",
    "percapitaincome = county_data.apply(lambda row: row[\"Total Income\"] / row[\"Population\"], axis = 1).reset_index()\n",
    "del percapitaincome[\"index\"]\n",
    "county_data[\"Income per Capita\"] = percapitaincome\n",
    "county_data.to_csv(\"CleanedIncomePerCapita.csv\")\n",
    "\n",
    "#Seperate County and State\n",
    "count_state_temp = county_data[\"County\"].str.split(\", \", n = 1, expand = True) \n",
    "county_data.drop(columns =[\"County\"], inplace = True) \n",
    "\n",
    "county_data[\"County\"] = count_state_temp[0]\n",
    "county_data[\"State\"] = count_state_temp[1]\n",
    "\n",
    "#filter only california counties\n",
    "cal_income = county_data[(county_data.State == \"CA\")]\n",
    "\n",
    "#filter only washington counties\n",
    "wash_income = county_data[(county_data.State == \"WA\")]\n",
    "\n",
    "#filter only arizona counties\n",
    "ariz_income = county_data[(county_data.State == \"AZ\") | ((county_data.State == \"AZ*\"))]\n",
    "\n",
    "#filter only ohio counties\n",
    "ohio_income = county_data[(county_data.State == \"OH\")]\n",
    "\n",
    "#filter only georgia counties\n",
    "geor_income = county_data[(county_data.State == \"GA\")]\n",
    "\n"
   ]
  },
  {
   "cell_type": "code",
   "execution_count": 3,
   "metadata": {},
   "outputs": [
    {
     "data": {
      "text/plain": [
       "array(['AL', 'AK*', 'AK', 'AZ', 'AZ*', 'AR', 'CA', 'CO*', 'CO', 'CT',\n",
       "       'DE', 'DC', 'FL', 'GA', 'HI', 'HI*', 'ID', 'IL', 'IN', 'IA', 'KS',\n",
       "       'KY', 'LA', 'ME', 'MD', 'MA', 'MI', 'MN', 'MS', 'MO', 'MT', 'NE',\n",
       "       'NV', 'NH', 'NJ', 'NM', 'NM*', 'NY', 'NC', 'ND', 'OH', 'OK', 'OR',\n",
       "       'PA', 'RI', 'SC', 'SD', 'SD*', 'TN', 'TX', 'UT', 'VT', 'VA', 'VA*',\n",
       "       'Staunton + Waynesboro, VA*', 'Colonial Heights + Petersburg, VA*',\n",
       "       'Fairfax City + Falls Church, VA*',\n",
       "       'Manassas + Manassas Park, VA*', 'Buena Vista + Lexington, VA*',\n",
       "       'WA', 'WV', 'WI', 'WI*', 'WY'], dtype=object)"
      ]
     },
     "execution_count": 3,
     "metadata": {},
     "output_type": "execute_result"
    }
   ],
   "source": [
    "county_data[\"State\"].unique()"
   ]
  },
  {
   "cell_type": "code",
   "execution_count": 4,
   "metadata": {},
   "outputs": [
    {
     "name": "stdout",
     "output_type": "stream",
     "text": [
      "<class 'pandas.core.frame.DataFrame'>\n",
      "Int64Index: 58 entries, 0 to 57\n",
      "Data columns (total 6 columns):\n",
      "Total Income          58 non-null int64\n",
      "Population            58 non-null int64\n",
      "Income per Capita     58 non-null float64\n",
      "County                58 non-null object\n",
      "State                 58 non-null object\n",
      "Doses Administered    58 non-null int64\n",
      "dtypes: float64(1), int64(3), object(2)\n",
      "memory usage: 3.2+ KB\n"
     ]
    },
    {
     "data": {
      "text/html": [
       "<div>\n",
       "<style scoped>\n",
       "    .dataframe tbody tr th:only-of-type {\n",
       "        vertical-align: middle;\n",
       "    }\n",
       "\n",
       "    .dataframe tbody tr th {\n",
       "        vertical-align: top;\n",
       "    }\n",
       "\n",
       "    .dataframe thead th {\n",
       "        text-align: right;\n",
       "    }\n",
       "</style>\n",
       "<table border=\"1\" class=\"dataframe\">\n",
       "  <thead>\n",
       "    <tr style=\"text-align: right;\">\n",
       "      <th></th>\n",
       "      <th>Total Income</th>\n",
       "      <th>Population</th>\n",
       "      <th>Income per Capita</th>\n",
       "      <th>County</th>\n",
       "      <th>State</th>\n",
       "      <th>Doses Administered</th>\n",
       "    </tr>\n",
       "  </thead>\n",
       "  <tbody>\n",
       "    <tr>\n",
       "      <th>0</th>\n",
       "      <td>135663560</td>\n",
       "      <td>1671329</td>\n",
       "      <td>81.171068</td>\n",
       "      <td>Alameda</td>\n",
       "      <td>CA</td>\n",
       "      <td>350830</td>\n",
       "    </tr>\n",
       "    <tr>\n",
       "      <th>1</th>\n",
       "      <td>81463</td>\n",
       "      <td>1129</td>\n",
       "      <td>72.155004</td>\n",
       "      <td>Alpine</td>\n",
       "      <td>CA</td>\n",
       "      <td>450</td>\n",
       "    </tr>\n",
       "    <tr>\n",
       "      <th>2</th>\n",
       "      <td>1825410</td>\n",
       "      <td>39752</td>\n",
       "      <td>45.919954</td>\n",
       "      <td>Amador</td>\n",
       "      <td>CA</td>\n",
       "      <td>8031</td>\n",
       "    </tr>\n",
       "    <tr>\n",
       "      <th>3</th>\n",
       "      <td>10490209</td>\n",
       "      <td>219186</td>\n",
       "      <td>47.859850</td>\n",
       "      <td>Butte</td>\n",
       "      <td>CA</td>\n",
       "      <td>50346</td>\n",
       "    </tr>\n",
       "    <tr>\n",
       "      <th>4</th>\n",
       "      <td>2347168</td>\n",
       "      <td>45905</td>\n",
       "      <td>51.130988</td>\n",
       "      <td>Calaveras</td>\n",
       "      <td>CA</td>\n",
       "      <td>9462</td>\n",
       "    </tr>\n",
       "  </tbody>\n",
       "</table>\n",
       "</div>"
      ],
      "text/plain": [
       "   Total Income  Population  Income per Capita     County State  \\\n",
       "0     135663560     1671329          81.171068    Alameda    CA   \n",
       "1         81463        1129          72.155004     Alpine    CA   \n",
       "2       1825410       39752          45.919954     Amador    CA   \n",
       "3      10490209      219186          47.859850      Butte    CA   \n",
       "4       2347168       45905          51.130988  Calaveras    CA   \n",
       "\n",
       "   Doses Administered  \n",
       "0              350830  \n",
       "1                 450  \n",
       "2                8031  \n",
       "3               50346  \n",
       "4                9462  "
      ]
     },
     "execution_count": 4,
     "metadata": {},
     "output_type": "execute_result"
    }
   ],
   "source": [
    "merged_cal = cal_income.merge(vaccine_count_cal, \"inner\", \"County\")\n",
    "merged_cal.info()\n",
    "merged_cal.head()"
   ]
  },
  {
   "cell_type": "code",
   "execution_count": 5,
   "metadata": {},
   "outputs": [
    {
     "name": "stdout",
     "output_type": "stream",
     "text": [
      "<class 'pandas.core.frame.DataFrame'>\n",
      "Int64Index: 39 entries, 0 to 38\n",
      "Data columns (total 8 columns):\n",
      "Total Income                     39 non-null int64\n",
      "Population                       39 non-null int64\n",
      "Income per Capita                39 non-null float64\n",
      "County                           39 non-null object\n",
      "State                            39 non-null object\n",
      "Doses Administered               39 non-null int64\n",
      "People Initiating Vaccination    39 non-null int64\n",
      "People Fully Vaccinated          39 non-null int64\n",
      "dtypes: float64(1), int64(5), object(2)\n",
      "memory usage: 2.7+ KB\n"
     ]
    },
    {
     "data": {
      "text/html": [
       "<div>\n",
       "<style scoped>\n",
       "    .dataframe tbody tr th:only-of-type {\n",
       "        vertical-align: middle;\n",
       "    }\n",
       "\n",
       "    .dataframe tbody tr th {\n",
       "        vertical-align: top;\n",
       "    }\n",
       "\n",
       "    .dataframe thead th {\n",
       "        text-align: right;\n",
       "    }\n",
       "</style>\n",
       "<table border=\"1\" class=\"dataframe\">\n",
       "  <thead>\n",
       "    <tr style=\"text-align: right;\">\n",
       "      <th></th>\n",
       "      <th>Total Income</th>\n",
       "      <th>Population</th>\n",
       "      <th>Income per Capita</th>\n",
       "      <th>County</th>\n",
       "      <th>State</th>\n",
       "      <th>Doses Administered</th>\n",
       "      <th>People Initiating Vaccination</th>\n",
       "      <th>People Fully Vaccinated</th>\n",
       "    </tr>\n",
       "  </thead>\n",
       "  <tbody>\n",
       "    <tr>\n",
       "      <th>0</th>\n",
       "      <td>867839</td>\n",
       "      <td>19983</td>\n",
       "      <td>43.428865</td>\n",
       "      <td>Adams</td>\n",
       "      <td>WA</td>\n",
       "      <td>3375</td>\n",
       "      <td>2097</td>\n",
       "      <td>685</td>\n",
       "    </tr>\n",
       "    <tr>\n",
       "      <th>1</th>\n",
       "      <td>1094225</td>\n",
       "      <td>22582</td>\n",
       "      <td>48.455628</td>\n",
       "      <td>Asotin</td>\n",
       "      <td>WA</td>\n",
       "      <td>4808</td>\n",
       "      <td>2625</td>\n",
       "      <td>978</td>\n",
       "    </tr>\n",
       "    <tr>\n",
       "      <th>2</th>\n",
       "      <td>10087552</td>\n",
       "      <td>204390</td>\n",
       "      <td>49.354430</td>\n",
       "      <td>Benton</td>\n",
       "      <td>WA</td>\n",
       "      <td>41142</td>\n",
       "      <td>24261</td>\n",
       "      <td>7685</td>\n",
       "    </tr>\n",
       "    <tr>\n",
       "      <th>3</th>\n",
       "      <td>4342733</td>\n",
       "      <td>77200</td>\n",
       "      <td>56.253018</td>\n",
       "      <td>Chelan</td>\n",
       "      <td>WA</td>\n",
       "      <td>31552</td>\n",
       "      <td>15869</td>\n",
       "      <td>6052</td>\n",
       "    </tr>\n",
       "    <tr>\n",
       "      <th>4</th>\n",
       "      <td>3700741</td>\n",
       "      <td>77331</td>\n",
       "      <td>47.855853</td>\n",
       "      <td>Clallam</td>\n",
       "      <td>WA</td>\n",
       "      <td>30843</td>\n",
       "      <td>20215</td>\n",
       "      <td>10663</td>\n",
       "    </tr>\n",
       "  </tbody>\n",
       "</table>\n",
       "</div>"
      ],
      "text/plain": [
       "   Total Income  Population  Income per Capita   County State  \\\n",
       "0        867839       19983          43.428865    Adams    WA   \n",
       "1       1094225       22582          48.455628   Asotin    WA   \n",
       "2      10087552      204390          49.354430   Benton    WA   \n",
       "3       4342733       77200          56.253018   Chelan    WA   \n",
       "4       3700741       77331          47.855853  Clallam    WA   \n",
       "\n",
       "   Doses Administered  People Initiating Vaccination  People Fully Vaccinated  \n",
       "0                3375                           2097                      685  \n",
       "1                4808                           2625                      978  \n",
       "2               41142                          24261                     7685  \n",
       "3               31552                          15869                     6052  \n",
       "4               30843                          20215                    10663  "
      ]
     },
     "execution_count": 5,
     "metadata": {},
     "output_type": "execute_result"
    }
   ],
   "source": [
    "merged_wash = wash_income.merge(vaccine_count_wash, \"inner\", \"County\")\n",
    "merged_wash = merged_wash.rename(columns = {\"Vaccine Doses Given\": \"Doses Administered\"})\n",
    "merged_wash.info()\n",
    "merged_wash.head()"
   ]
  },
  {
   "cell_type": "code",
   "execution_count": 6,
   "metadata": {},
   "outputs": [
    {
     "name": "stdout",
     "output_type": "stream",
     "text": [
      "<class 'pandas.core.frame.DataFrame'>\n",
      "Int64Index: 58 entries, 0 to 57\n",
      "Data columns (total 6 columns):\n",
      "Total Income          58 non-null int64\n",
      "Population            58 non-null int64\n",
      "Income per Capita     58 non-null float64\n",
      "County                58 non-null object\n",
      "State                 58 non-null object\n",
      "Doses Administered    58 non-null int64\n",
      "dtypes: float64(1), int64(3), object(2)\n",
      "memory usage: 3.2+ KB\n"
     ]
    },
    {
     "data": {
      "text/html": [
       "<div>\n",
       "<style scoped>\n",
       "    .dataframe tbody tr th:only-of-type {\n",
       "        vertical-align: middle;\n",
       "    }\n",
       "\n",
       "    .dataframe tbody tr th {\n",
       "        vertical-align: top;\n",
       "    }\n",
       "\n",
       "    .dataframe thead th {\n",
       "        text-align: right;\n",
       "    }\n",
       "</style>\n",
       "<table border=\"1\" class=\"dataframe\">\n",
       "  <thead>\n",
       "    <tr style=\"text-align: right;\">\n",
       "      <th></th>\n",
       "      <th>Total Income</th>\n",
       "      <th>Population</th>\n",
       "      <th>Income per Capita</th>\n",
       "      <th>County</th>\n",
       "      <th>State</th>\n",
       "      <th>Doses Administered</th>\n",
       "    </tr>\n",
       "  </thead>\n",
       "  <tbody>\n",
       "    <tr>\n",
       "      <th>0</th>\n",
       "      <td>135663560</td>\n",
       "      <td>1671329</td>\n",
       "      <td>81.171068</td>\n",
       "      <td>Alameda</td>\n",
       "      <td>CA</td>\n",
       "      <td>350830</td>\n",
       "    </tr>\n",
       "    <tr>\n",
       "      <th>1</th>\n",
       "      <td>81463</td>\n",
       "      <td>1129</td>\n",
       "      <td>72.155004</td>\n",
       "      <td>Alpine</td>\n",
       "      <td>CA</td>\n",
       "      <td>450</td>\n",
       "    </tr>\n",
       "    <tr>\n",
       "      <th>2</th>\n",
       "      <td>1825410</td>\n",
       "      <td>39752</td>\n",
       "      <td>45.919954</td>\n",
       "      <td>Amador</td>\n",
       "      <td>CA</td>\n",
       "      <td>8031</td>\n",
       "    </tr>\n",
       "    <tr>\n",
       "      <th>3</th>\n",
       "      <td>10490209</td>\n",
       "      <td>219186</td>\n",
       "      <td>47.859850</td>\n",
       "      <td>Butte</td>\n",
       "      <td>CA</td>\n",
       "      <td>50346</td>\n",
       "    </tr>\n",
       "    <tr>\n",
       "      <th>4</th>\n",
       "      <td>2347168</td>\n",
       "      <td>45905</td>\n",
       "      <td>51.130988</td>\n",
       "      <td>Calaveras</td>\n",
       "      <td>CA</td>\n",
       "      <td>9462</td>\n",
       "    </tr>\n",
       "  </tbody>\n",
       "</table>\n",
       "</div>"
      ],
      "text/plain": [
       "   Total Income  Population  Income per Capita     County State  \\\n",
       "0     135663560     1671329          81.171068    Alameda    CA   \n",
       "1         81463        1129          72.155004     Alpine    CA   \n",
       "2       1825410       39752          45.919954     Amador    CA   \n",
       "3      10490209      219186          47.859850      Butte    CA   \n",
       "4       2347168       45905          51.130988  Calaveras    CA   \n",
       "\n",
       "   Doses Administered  \n",
       "0              350830  \n",
       "1                 450  \n",
       "2                8031  \n",
       "3               50346  \n",
       "4                9462  "
      ]
     },
     "execution_count": 6,
     "metadata": {},
     "output_type": "execute_result"
    }
   ],
   "source": [
    "merged_cal = cal_income.merge(vaccine_count_cal, \"inner\", \"County\")\n",
    "merged_cal.info()\n",
    "merged_cal.head()"
   ]
  },
  {
   "cell_type": "code",
   "execution_count": 7,
   "metadata": {},
   "outputs": [
    {
     "name": "stdout",
     "output_type": "stream",
     "text": [
      "<class 'pandas.core.frame.DataFrame'>\n",
      "Int64Index: 15 entries, 0 to 14\n",
      "Data columns (total 6 columns):\n",
      "Total Income          15 non-null int64\n",
      "Population            15 non-null int64\n",
      "Income per Capita     15 non-null float64\n",
      "County                15 non-null object\n",
      "State                 15 non-null object\n",
      "Doses Administered    15 non-null int64\n",
      "dtypes: float64(1), int64(3), object(2)\n",
      "memory usage: 840.0+ bytes\n"
     ]
    },
    {
     "data": {
      "text/html": [
       "<div>\n",
       "<style scoped>\n",
       "    .dataframe tbody tr th:only-of-type {\n",
       "        vertical-align: middle;\n",
       "    }\n",
       "\n",
       "    .dataframe tbody tr th {\n",
       "        vertical-align: top;\n",
       "    }\n",
       "\n",
       "    .dataframe thead th {\n",
       "        text-align: right;\n",
       "    }\n",
       "</style>\n",
       "<table border=\"1\" class=\"dataframe\">\n",
       "  <thead>\n",
       "    <tr style=\"text-align: right;\">\n",
       "      <th></th>\n",
       "      <th>Total Income</th>\n",
       "      <th>Population</th>\n",
       "      <th>Income per Capita</th>\n",
       "      <th>County</th>\n",
       "      <th>State</th>\n",
       "      <th>Doses Administered</th>\n",
       "    </tr>\n",
       "  </thead>\n",
       "  <tbody>\n",
       "    <tr>\n",
       "      <th>0</th>\n",
       "      <td>2529614</td>\n",
       "      <td>71887</td>\n",
       "      <td>35.188755</td>\n",
       "      <td>Apache</td>\n",
       "      <td>AZ</td>\n",
       "      <td>7555</td>\n",
       "    </tr>\n",
       "    <tr>\n",
       "      <th>1</th>\n",
       "      <td>5259219</td>\n",
       "      <td>125922</td>\n",
       "      <td>41.765688</td>\n",
       "      <td>Cochise</td>\n",
       "      <td>AZ</td>\n",
       "      <td>23144</td>\n",
       "    </tr>\n",
       "    <tr>\n",
       "      <th>2</th>\n",
       "      <td>7057376</td>\n",
       "      <td>143476</td>\n",
       "      <td>49.188547</td>\n",
       "      <td>Coconino</td>\n",
       "      <td>AZ</td>\n",
       "      <td>44455</td>\n",
       "    </tr>\n",
       "    <tr>\n",
       "      <th>3</th>\n",
       "      <td>2226470</td>\n",
       "      <td>54018</td>\n",
       "      <td>41.217187</td>\n",
       "      <td>Gila</td>\n",
       "      <td>AZ</td>\n",
       "      <td>13236</td>\n",
       "    </tr>\n",
       "    <tr>\n",
       "      <th>4</th>\n",
       "      <td>1238695</td>\n",
       "      <td>38837</td>\n",
       "      <td>31.894714</td>\n",
       "      <td>Graham</td>\n",
       "      <td>AZ</td>\n",
       "      <td>5772</td>\n",
       "    </tr>\n",
       "  </tbody>\n",
       "</table>\n",
       "</div>"
      ],
      "text/plain": [
       "   Total Income  Population  Income per Capita    County State  \\\n",
       "0       2529614       71887          35.188755    Apache    AZ   \n",
       "1       5259219      125922          41.765688   Cochise    AZ   \n",
       "2       7057376      143476          49.188547  Coconino    AZ   \n",
       "3       2226470       54018          41.217187      Gila    AZ   \n",
       "4       1238695       38837          31.894714    Graham    AZ   \n",
       "\n",
       "   Doses Administered  \n",
       "0                7555  \n",
       "1               23144  \n",
       "2               44455  \n",
       "3               13236  \n",
       "4                5772  "
      ]
     },
     "execution_count": 7,
     "metadata": {},
     "output_type": "execute_result"
    }
   ],
   "source": [
    "merged_ariz = ariz_income.merge(vaccine_count_ariz, \"inner\", \"County\")\n",
    "merged_ariz.info()\n",
    "merged_ariz.head()"
   ]
  },
  {
   "cell_type": "code",
   "execution_count": 8,
   "metadata": {},
   "outputs": [
    {
     "name": "stdout",
     "output_type": "stream",
     "text": [
      "<class 'pandas.core.frame.DataFrame'>\n",
      "Int64Index: 87 entries, 0 to 86\n",
      "Data columns (total 6 columns):\n",
      "Total Income          87 non-null int64\n",
      "Population            87 non-null int64\n",
      "Income per Capita     87 non-null float64\n",
      "County                87 non-null object\n",
      "State                 87 non-null object\n",
      "Doses Administered    87 non-null int64\n",
      "dtypes: float64(1), int64(3), object(2)\n",
      "memory usage: 4.8+ KB\n"
     ]
    },
    {
     "data": {
      "text/html": [
       "<div>\n",
       "<style scoped>\n",
       "    .dataframe tbody tr th:only-of-type {\n",
       "        vertical-align: middle;\n",
       "    }\n",
       "\n",
       "    .dataframe tbody tr th {\n",
       "        vertical-align: top;\n",
       "    }\n",
       "\n",
       "    .dataframe thead th {\n",
       "        text-align: right;\n",
       "    }\n",
       "</style>\n",
       "<table border=\"1\" class=\"dataframe\">\n",
       "  <thead>\n",
       "    <tr style=\"text-align: right;\">\n",
       "      <th></th>\n",
       "      <th>Total Income</th>\n",
       "      <th>Population</th>\n",
       "      <th>Income per Capita</th>\n",
       "      <th>County</th>\n",
       "      <th>State</th>\n",
       "      <th>Doses Administered</th>\n",
       "    </tr>\n",
       "  </thead>\n",
       "  <tbody>\n",
       "    <tr>\n",
       "      <th>0</th>\n",
       "      <td>976876</td>\n",
       "      <td>27698</td>\n",
       "      <td>35.268828</td>\n",
       "      <td>Adams</td>\n",
       "      <td>OH</td>\n",
       "      <td>1873</td>\n",
       "    </tr>\n",
       "    <tr>\n",
       "      <th>1</th>\n",
       "      <td>4481729</td>\n",
       "      <td>102351</td>\n",
       "      <td>43.787838</td>\n",
       "      <td>Allen</td>\n",
       "      <td>OH</td>\n",
       "      <td>9947</td>\n",
       "    </tr>\n",
       "    <tr>\n",
       "      <th>2</th>\n",
       "      <td>2138133</td>\n",
       "      <td>53484</td>\n",
       "      <td>39.977059</td>\n",
       "      <td>Ashland</td>\n",
       "      <td>OH</td>\n",
       "      <td>3823</td>\n",
       "    </tr>\n",
       "    <tr>\n",
       "      <th>3</th>\n",
       "      <td>3866977</td>\n",
       "      <td>97241</td>\n",
       "      <td>39.766940</td>\n",
       "      <td>Ashtabula</td>\n",
       "      <td>OH</td>\n",
       "      <td>8866</td>\n",
       "    </tr>\n",
       "    <tr>\n",
       "      <th>4</th>\n",
       "      <td>2273150</td>\n",
       "      <td>65327</td>\n",
       "      <td>34.796485</td>\n",
       "      <td>Athens</td>\n",
       "      <td>OH</td>\n",
       "      <td>6062</td>\n",
       "    </tr>\n",
       "  </tbody>\n",
       "</table>\n",
       "</div>"
      ],
      "text/plain": [
       "   Total Income  Population  Income per Capita     County State  \\\n",
       "0        976876       27698          35.268828      Adams    OH   \n",
       "1       4481729      102351          43.787838      Allen    OH   \n",
       "2       2138133       53484          39.977059    Ashland    OH   \n",
       "3       3866977       97241          39.766940  Ashtabula    OH   \n",
       "4       2273150       65327          34.796485     Athens    OH   \n",
       "\n",
       "   Doses Administered  \n",
       "0                1873  \n",
       "1                9947  \n",
       "2                3823  \n",
       "3                8866  \n",
       "4                6062  "
      ]
     },
     "execution_count": 8,
     "metadata": {},
     "output_type": "execute_result"
    }
   ],
   "source": [
    "merged_ohio = ohio_income.merge(vaccine_count_ohio, \"inner\", \"County\")\n",
    "merged_ohio.info()\n",
    "merged_ohio.head()"
   ]
  },
  {
   "cell_type": "code",
   "execution_count": 9,
   "metadata": {},
   "outputs": [],
   "source": [
    "def standardize_county(string):\n",
    "    string = string.strip()\n",
    "    string = string.replace(\"County\", \"\")\n",
    "    string = string.strip()\n",
    "    \n",
    "    return string\n",
    "        "
   ]
  },
  {
   "cell_type": "code",
   "execution_count": 10,
   "metadata": {},
   "outputs": [
    {
     "name": "stdout",
     "output_type": "stream",
     "text": [
      "<class 'pandas.core.frame.DataFrame'>\n",
      "Int64Index: 159 entries, 0 to 158\n",
      "Data columns (total 6 columns):\n",
      "Total Income          159 non-null int64\n",
      "Population            159 non-null int64\n",
      "Income per Capita     159 non-null float64\n",
      "County                159 non-null object\n",
      "State                 159 non-null object\n",
      "Doses Administered    159 non-null int64\n",
      "dtypes: float64(1), int64(3), object(2)\n",
      "memory usage: 8.7+ KB\n"
     ]
    },
    {
     "data": {
      "text/html": [
       "<div>\n",
       "<style scoped>\n",
       "    .dataframe tbody tr th:only-of-type {\n",
       "        vertical-align: middle;\n",
       "    }\n",
       "\n",
       "    .dataframe tbody tr th {\n",
       "        vertical-align: top;\n",
       "    }\n",
       "\n",
       "    .dataframe thead th {\n",
       "        text-align: right;\n",
       "    }\n",
       "</style>\n",
       "<table border=\"1\" class=\"dataframe\">\n",
       "  <thead>\n",
       "    <tr style=\"text-align: right;\">\n",
       "      <th></th>\n",
       "      <th>Total Income</th>\n",
       "      <th>Population</th>\n",
       "      <th>Income per Capita</th>\n",
       "      <th>County</th>\n",
       "      <th>State</th>\n",
       "      <th>Doses Administered</th>\n",
       "    </tr>\n",
       "  </thead>\n",
       "  <tbody>\n",
       "    <tr>\n",
       "      <th>0</th>\n",
       "      <td>652960</td>\n",
       "      <td>18386</td>\n",
       "      <td>35.513978</td>\n",
       "      <td>Appling</td>\n",
       "      <td>GA</td>\n",
       "      <td>5964</td>\n",
       "    </tr>\n",
       "    <tr>\n",
       "      <th>1</th>\n",
       "      <td>257538</td>\n",
       "      <td>8165</td>\n",
       "      <td>31.541702</td>\n",
       "      <td>Atkinson</td>\n",
       "      <td>GA</td>\n",
       "      <td>853</td>\n",
       "    </tr>\n",
       "    <tr>\n",
       "      <th>2</th>\n",
       "      <td>372801</td>\n",
       "      <td>11164</td>\n",
       "      <td>33.393139</td>\n",
       "      <td>Bacon</td>\n",
       "      <td>GA</td>\n",
       "      <td>5964</td>\n",
       "    </tr>\n",
       "    <tr>\n",
       "      <th>3</th>\n",
       "      <td>125538</td>\n",
       "      <td>3038</td>\n",
       "      <td>41.322581</td>\n",
       "      <td>Baker</td>\n",
       "      <td>GA</td>\n",
       "      <td>956</td>\n",
       "    </tr>\n",
       "    <tr>\n",
       "      <th>4</th>\n",
       "      <td>1532017</td>\n",
       "      <td>44890</td>\n",
       "      <td>34.128247</td>\n",
       "      <td>Baldwin</td>\n",
       "      <td>GA</td>\n",
       "      <td>3406</td>\n",
       "    </tr>\n",
       "  </tbody>\n",
       "</table>\n",
       "</div>"
      ],
      "text/plain": [
       "   Total Income  Population  Income per Capita    County State  \\\n",
       "0        652960       18386          35.513978   Appling    GA   \n",
       "1        257538        8165          31.541702  Atkinson    GA   \n",
       "2        372801       11164          33.393139     Bacon    GA   \n",
       "3        125538        3038          41.322581     Baker    GA   \n",
       "4       1532017       44890          34.128247   Baldwin    GA   \n",
       "\n",
       "   Doses Administered  \n",
       "0                5964  \n",
       "1                 853  \n",
       "2                5964  \n",
       "3                 956  \n",
       "4                3406  "
      ]
     },
     "execution_count": 10,
     "metadata": {},
     "output_type": "execute_result"
    }
   ],
   "source": [
    "vaccine_count_geor[\"County\"] = vaccine_count_geor[\"County\"].apply(standardize_county)\n",
    "\n",
    "merged_geor = geor_income.merge(vaccine_count_geor, \"inner\", \"County\")\n",
    "merged_geor.info()\n",
    "merged_geor.head()"
   ]
  },
  {
   "cell_type": "code",
   "execution_count": null,
   "metadata": {},
   "outputs": [],
   "source": []
  },
  {
   "cell_type": "markdown",
   "metadata": {},
   "source": [
    "# Data Analysis & Results (EDA)"
   ]
  },
  {
   "cell_type": "markdown",
   "metadata": {},
   "source": [
    "Carry out EDA on your dataset(s); Describe in this section"
   ]
  },
  {
   "cell_type": "code",
   "execution_count": 11,
   "metadata": {},
   "outputs": [],
   "source": [
    "color_dict = {\"all\": \"black\", \"cal\": \"blue\", \"wash\": \"red\", \"geor\": \"pink\", \"ohio\": \"green\", \"ariz\": \"yellow\"}\n",
    "states = [\"cal\", \"wash\", \"ariz\", \"ohio\", \"geor\"]\n",
    "dataset_dict = {\"cal\": merged_cal, \"wash\": merged_wash, \"ariz\": merged_ariz, \"ohio\": merged_ohio, \"geor\": merged_geor}"
   ]
  },
  {
   "cell_type": "code",
   "execution_count": 12,
   "metadata": {},
   "outputs": [],
   "source": [
    "for state in states:\n",
    "    vaccine_per_capita = dataset_dict[state].apply(lambda row: row[\"Doses Administered\"] / row[\"Population\"], axis = 1)\n",
    "    dataset_dict[state][\"Doses per Capita\"] = vaccine_per_capita"
   ]
  },
  {
   "cell_type": "code",
   "execution_count": 13,
   "metadata": {},
   "outputs": [
    {
     "data": {
      "text/html": [
       "<div>\n",
       "<style scoped>\n",
       "    .dataframe tbody tr th:only-of-type {\n",
       "        vertical-align: middle;\n",
       "    }\n",
       "\n",
       "    .dataframe tbody tr th {\n",
       "        vertical-align: top;\n",
       "    }\n",
       "\n",
       "    .dataframe thead th {\n",
       "        text-align: right;\n",
       "    }\n",
       "</style>\n",
       "<table border=\"1\" class=\"dataframe\">\n",
       "  <thead>\n",
       "    <tr style=\"text-align: right;\">\n",
       "      <th></th>\n",
       "      <th>Total Income</th>\n",
       "      <th>Population</th>\n",
       "      <th>Income per Capita</th>\n",
       "      <th>County</th>\n",
       "      <th>State</th>\n",
       "      <th>Doses Administered</th>\n",
       "      <th>Doses per Capita</th>\n",
       "      <th>People Initiating Vaccination</th>\n",
       "      <th>People Fully Vaccinated</th>\n",
       "    </tr>\n",
       "  </thead>\n",
       "  <tbody>\n",
       "    <tr>\n",
       "      <th>0</th>\n",
       "      <td>135663560</td>\n",
       "      <td>1671329</td>\n",
       "      <td>81.171068</td>\n",
       "      <td>Alameda</td>\n",
       "      <td>CA</td>\n",
       "      <td>350830</td>\n",
       "      <td>0.209911</td>\n",
       "      <td>NaN</td>\n",
       "      <td>NaN</td>\n",
       "    </tr>\n",
       "    <tr>\n",
       "      <th>1</th>\n",
       "      <td>81463</td>\n",
       "      <td>1129</td>\n",
       "      <td>72.155004</td>\n",
       "      <td>Alpine</td>\n",
       "      <td>CA</td>\n",
       "      <td>450</td>\n",
       "      <td>0.398583</td>\n",
       "      <td>NaN</td>\n",
       "      <td>NaN</td>\n",
       "    </tr>\n",
       "    <tr>\n",
       "      <th>2</th>\n",
       "      <td>1825410</td>\n",
       "      <td>39752</td>\n",
       "      <td>45.919954</td>\n",
       "      <td>Amador</td>\n",
       "      <td>CA</td>\n",
       "      <td>8031</td>\n",
       "      <td>0.202028</td>\n",
       "      <td>NaN</td>\n",
       "      <td>NaN</td>\n",
       "    </tr>\n",
       "    <tr>\n",
       "      <th>3</th>\n",
       "      <td>10490209</td>\n",
       "      <td>219186</td>\n",
       "      <td>47.859850</td>\n",
       "      <td>Butte</td>\n",
       "      <td>CA</td>\n",
       "      <td>50346</td>\n",
       "      <td>0.229695</td>\n",
       "      <td>NaN</td>\n",
       "      <td>NaN</td>\n",
       "    </tr>\n",
       "    <tr>\n",
       "      <th>4</th>\n",
       "      <td>2347168</td>\n",
       "      <td>45905</td>\n",
       "      <td>51.130988</td>\n",
       "      <td>Calaveras</td>\n",
       "      <td>CA</td>\n",
       "      <td>9462</td>\n",
       "      <td>0.206121</td>\n",
       "      <td>NaN</td>\n",
       "      <td>NaN</td>\n",
       "    </tr>\n",
       "  </tbody>\n",
       "</table>\n",
       "</div>"
      ],
      "text/plain": [
       "   Total Income  Population  Income per Capita     County State  \\\n",
       "0     135663560     1671329          81.171068    Alameda    CA   \n",
       "1         81463        1129          72.155004     Alpine    CA   \n",
       "2       1825410       39752          45.919954     Amador    CA   \n",
       "3      10490209      219186          47.859850      Butte    CA   \n",
       "4       2347168       45905          51.130988  Calaveras    CA   \n",
       "\n",
       "   Doses Administered  Doses per Capita  People Initiating Vaccination  \\\n",
       "0              350830          0.209911                            NaN   \n",
       "1                 450          0.398583                            NaN   \n",
       "2                8031          0.202028                            NaN   \n",
       "3               50346          0.229695                            NaN   \n",
       "4                9462          0.206121                            NaN   \n",
       "\n",
       "   People Fully Vaccinated  \n",
       "0                      NaN  \n",
       "1                      NaN  \n",
       "2                      NaN  \n",
       "3                      NaN  \n",
       "4                      NaN  "
      ]
     },
     "execution_count": 13,
     "metadata": {},
     "output_type": "execute_result"
    }
   ],
   "source": [
    "all_states = pd.concat([merged_cal, merged_wash, merged_ohio, merged_geor, merged_ariz], sort=False)\n",
    "all_states.head()"
   ]
  },
  {
   "cell_type": "code",
   "execution_count": 26,
   "metadata": {},
   "outputs": [
    {
     "data": {
      "image/png": "[encoded data removed]",
      "text/plain": [
       "<Figure size 1080x360 with 3 Axes>"
      ]
     },
     "metadata": {
      "needs_background": "light"
     },
     "output_type": "display_data"
    }
   ],
   "source": [
    "num_bins = 25\n",
    "f, (ax1, ax2, ax3) = plt.subplots(1, 3, figsize=(15,5))\n",
    "ax1.hist(all_states[\"Income per Capita\"], num_bins, facecolor='black', alpha=0.7)\n",
    "ax1.set_title(\"Income per Capita of 5 states\")\n",
    "ax1.set_xlabel(\"Income per Capita\")\n",
    "ax2.hist(all_states[\"Doses Administered\"], num_bins, facecolor='black', alpha=0.7)\n",
    "ax2.set_title(\"Doses Administered of 5 states\")\n",
    "ax2.set_xlabel(\"Doses Administered\")\n",
    "ax3.hist(all_states[\"Doses per Capita\"], num_bins, facecolor='black', alpha=0.7)\n",
    "ax3.set_title(\"Doses per Capita of all states\")\n",
    "ax3.set_xlabel(\"Doses per Capita\")\n",
    "plt.show()"
   ]
  },
  {
   "cell_type": "code",
   "execution_count": 42,
   "metadata": {},
   "outputs": [],
   "source": [
    "def plot_hist(state):\n",
    "    f, (ax1, ax2, ax3) = plt.subplots(1, 3, figsize=(15,5))\n",
    "    ax1.hist(dataset_dict[state][\"Income per Capita\"], num_bins, facecolor=color_dict[state], alpha=0.7)\n",
    "    ax1.set_title(\"Income per Capita \" + state)\n",
    "    ax1.set_xlabel(\"Income per Capita\")\n",
    "    ax2.hist(dataset_dict[state][\"Doses Administered\"], num_bins, facecolor=color_dict[state], alpha=0.7)\n",
    "    ax2.set_title(\"Doses Administered \" + state)\n",
    "    ax2.set_xlabel(\"Doses Administered \")\n",
    "    ax3.hist(dataset_dict[state][\"Doses per Capita\"], num_bins, facecolor=color_dict[state], alpha=0.7)\n",
    "    ax3.set_title(\"Doses per Capita \" + state)\n",
    "    ax3.set_xlabel(\"Doses per Capita\")\n",
    "    plt.show()"
   ]
  },
  {
   "cell_type": "code",
   "execution_count": 43,
   "metadata": {},
   "outputs": [
    {
     "data": {
      "image/png": "[encoded data removed]",
      "text/plain": [
       "<Figure size 1080x360 with 3 Axes>"
      ]
     },
     "metadata": {
      "needs_background": "light"
     },
     "output_type": "display_data"
    }
   ],
   "source": [
    "#histogram of california income per capita\n",
    "plot_hist(\"cal\")"
   ]
  },
  {
   "cell_type": "code",
   "execution_count": 44,
   "metadata": {},
   "outputs": [
    {
     "data": {
      "image/png": "[encoded data removed]",
      "text/plain": [
       "<Figure size 1080x360 with 3 Axes>"
      ]
     },
     "metadata": {
      "needs_background": "light"
     },
     "output_type": "display_data"
    }
   ],
   "source": [
    "#histogram of washington income per capita\n",
    "plot_hist(\"wash\")"
   ]
  },
  {
   "cell_type": "code",
   "execution_count": 45,
   "metadata": {},
   "outputs": [
    {
     "data": {
      "image/png": "[encoded data removed]",
      "text/plain": [
       "<Figure size 1080x360 with 3 Axes>"
      ]
     },
     "metadata": {
      "needs_background": "light"
     },
     "output_type": "display_data"
    }
   ],
   "source": [
    "#histogram of arizona income per capita\n",
    "plot_hist(\"ariz\")"
   ]
  },
  {
   "cell_type": "code",
   "execution_count": 46,
   "metadata": {},
   "outputs": [
    {
     "data": {
      "image/png": "[encoded data removed]",
      "text/plain": [
       "<Figure size 1080x360 with 3 Axes>"
      ]
     },
     "metadata": {
      "needs_background": "light"
     },
     "output_type": "display_data"
    }
   ],
   "source": [
    "#histogram of ohio income per capita\n",
    "plot_hist(\"ohio\")"
   ]
  },
  {
   "cell_type": "code",
   "execution_count": 47,
   "metadata": {},
   "outputs": [
    {
     "data": {
      "image/png": "[encoded data removed]",
      "text/plain": [
       "<Figure size 1080x360 with 3 Axes>"
      ]
     },
     "metadata": {
      "needs_background": "light"
     },
     "output_type": "display_data"
    }
   ],
   "source": [
    "#histogram of ohio income per capita\n",
    "plot_hist(\"geor\")"
   ]
  },
  {
   "cell_type": "code",
   "execution_count": 51,
   "metadata": {},
   "outputs": [
    {
     "data": {
      "text/plain": [
       "Text(0, 0.5, 'Doses Administered')"
      ]
     },
     "execution_count": 51,
     "metadata": {},
     "output_type": "execute_result"
    },
    {
     "data": {
      "image/png": "[encoded data removed]",
      "text/plain": [
       "<Figure size 432x288 with 1 Axes>"
      ]
     },
     "metadata": {
      "needs_background": "light"
     },
     "output_type": "display_data"
    }
   ],
   "source": [
    "for state in states:\n",
    "    plt.plot(dataset_dict[state][\"Income per Capita\"], dataset_dict[state][\"Doses Administered\"], color = color_dict[state], marker='o', alpha = 0.5, linestyle=\"None\")\n",
    "    \n",
    "plt.xlabel(\"Income per Capita (in Thousands)\")\n",
    "plt.ylabel(\"Doses Administered\")"
   ]
  },
  {
   "cell_type": "code",
   "execution_count": 49,
   "metadata": {},
   "outputs": [
    {
     "data": {
      "text/plain": [
       "Text(0, 0.5, 'Doses per Capita')"
      ]
     },
     "execution_count": 49,
     "metadata": {},
     "output_type": "execute_result"
    },
    {
     "data": {
      "image/png": "[encoded data removed]",
      "text/plain": [
       "<Figure size 432x288 with 1 Axes>"
      ]
     },
     "metadata": {
      "needs_background": "light"
     },
     "output_type": "display_data"
    }
   ],
   "source": [
    "for state in states:\n",
    "    plt.plot(dataset_dict[state][\"Income per Capita\"], dataset_dict[state][\"Doses per Capita\"], color = color_dict[state], marker='o', alpha = 0.5, linestyle=\"None\")\n",
    "plt.xlabel(\"Income per Capita (in Thousands)\")\n",
    "plt.ylabel(\"Doses per Capita\")"
   ]
  },
  {
   "cell_type": "code",
   "execution_count": null,
   "metadata": {},
   "outputs": [],
   "source": []
  }
 ],
 "metadata": {
  "kernelspec": {
   "display_name": "Python 3",
   "language": "python",
   "name": "python3"
  },
  "language_info": {
   "codemirror_mode": {
    "name": "ipython",
    "version": 3
   },
   "file_extension": ".py",
   "mimetype": "text/x-python",
   "name": "python",
   "nbconvert_exporter": "python",
   "pygments_lexer": "ipython3",
   "version": "3.7.3"
  }
 },
 "nbformat": 4,
 "nbformat_minor": 2
}
