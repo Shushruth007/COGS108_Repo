{
 "cells": [
  {
   "cell_type": "markdown",
   "metadata": {},
   "source": [
    "# COGS 108 - EDA Checkpoint"
   ]
  },
  {
   "cell_type": "markdown",
   "metadata": {},
   "source": [
    "# Names\n",
    "\n",
    "- Ant Man\n",
    "- Hulk\n",
    "- Iron Man\n",
    "- Thor\n",
    "- Wasp"
   ]
  },
  {
   "cell_type": "markdown",
   "metadata": {},
   "source": [
    "<a id='research_question'></a>\n",
    "# Research Question"
   ]
  },
  {
   "cell_type": "markdown",
   "metadata": {},
   "source": [
    "*Fill in your research question here*"
   ]
  },
  {
   "cell_type": "markdown",
   "metadata": {},
   "source": [
    "# Setup"
   ]
  },
  {
   "cell_type": "code",
   "execution_count": 23,
   "metadata": {},
   "outputs": [],
   "source": [
    "import pandas as pd\n",
    "import matplotlib.pyplot as plt\n",
    "import scipy.stats as stat"
   ]
  },
  {
   "cell_type": "markdown",
   "metadata": {},
   "source": [
    "# Data Cleaning"
   ]
  },
  {
   "cell_type": "markdown",
   "metadata": {},
   "source": [
    "Describe your data cleaning steps here."
   ]
  },
  {
   "cell_type": "code",
   "execution_count": 30,
   "metadata": {},
   "outputs": [
    {
     "name": "stdout",
     "output_type": "stream",
     "text": [
      "<class 'pandas.core.frame.DataFrame'>\n",
      "Int64Index: 58 entries, 0 to 57\n",
      "Data columns (total 6 columns):\n",
      "Total Income          58 non-null int64\n",
      "Population            58 non-null int64\n",
      "Income per Capita     58 non-null float64\n",
      "County                58 non-null object\n",
      "State                 58 non-null object\n",
      "Doses Administered    58 non-null int64\n",
      "dtypes: float64(1), int64(3), object(2)\n",
      "memory usage: 3.2+ KB\n"
     ]
    },
    {
     "data": {
      "text/html": [
       "<div>\n",
       "<style scoped>\n",
       "    .dataframe tbody tr th:only-of-type {\n",
       "        vertical-align: middle;\n",
       "    }\n",
       "\n",
       "    .dataframe tbody tr th {\n",
       "        vertical-align: top;\n",
       "    }\n",
       "\n",
       "    .dataframe thead th {\n",
       "        text-align: right;\n",
       "    }\n",
       "</style>\n",
       "<table border=\"1\" class=\"dataframe\">\n",
       "  <thead>\n",
       "    <tr style=\"text-align: right;\">\n",
       "      <th></th>\n",
       "      <th>Total Income</th>\n",
       "      <th>Population</th>\n",
       "      <th>Income per Capita</th>\n",
       "      <th>County</th>\n",
       "      <th>State</th>\n",
       "      <th>Doses Administered</th>\n",
       "    </tr>\n",
       "  </thead>\n",
       "  <tbody>\n",
       "    <tr>\n",
       "      <th>0</th>\n",
       "      <td>135663560</td>\n",
       "      <td>1671329</td>\n",
       "      <td>81.171068</td>\n",
       "      <td>Alameda</td>\n",
       "      <td>CA</td>\n",
       "      <td>216440</td>\n",
       "    </tr>\n",
       "    <tr>\n",
       "      <th>1</th>\n",
       "      <td>81463</td>\n",
       "      <td>1129</td>\n",
       "      <td>72.155004</td>\n",
       "      <td>Alpine</td>\n",
       "      <td>CA</td>\n",
       "      <td>362</td>\n",
       "    </tr>\n",
       "    <tr>\n",
       "      <th>2</th>\n",
       "      <td>1825410</td>\n",
       "      <td>39752</td>\n",
       "      <td>45.919954</td>\n",
       "      <td>Amador</td>\n",
       "      <td>CA</td>\n",
       "      <td>4777</td>\n",
       "    </tr>\n",
       "    <tr>\n",
       "      <th>3</th>\n",
       "      <td>10490209</td>\n",
       "      <td>219186</td>\n",
       "      <td>47.859850</td>\n",
       "      <td>Butte</td>\n",
       "      <td>CA</td>\n",
       "      <td>39012</td>\n",
       "    </tr>\n",
       "    <tr>\n",
       "      <th>4</th>\n",
       "      <td>2347168</td>\n",
       "      <td>45905</td>\n",
       "      <td>51.130988</td>\n",
       "      <td>Calaveras</td>\n",
       "      <td>CA</td>\n",
       "      <td>5568</td>\n",
       "    </tr>\n",
       "  </tbody>\n",
       "</table>\n",
       "</div>"
      ],
      "text/plain": [
       "   Total Income  Population  Income per Capita     County State  \\\n",
       "0     135663560     1671329          81.171068    Alameda    CA   \n",
       "1         81463        1129          72.155004     Alpine    CA   \n",
       "2       1825410       39752          45.919954     Amador    CA   \n",
       "3      10490209      219186          47.859850      Butte    CA   \n",
       "4       2347168       45905          51.130988  Calaveras    CA   \n",
       "\n",
       "   Doses Administered  \n",
       "0              216440  \n",
       "1                 362  \n",
       "2                4777  \n",
       "3               39012  \n",
       "4                5568  "
      ]
     },
     "execution_count": 30,
     "metadata": {},
     "output_type": "execute_result"
    }
   ],
   "source": [
    "income_raw = pd.read_csv(\"Datasets/IncomeByCounty.csv\")\n",
    "vaccine_count_cal = pd.read_csv(\"Datasets/DosesAdminsteredbyCounty(California).csv\", thousands=',')\n",
    "vaccine_count_wash = pd.read_csv(\"Datasets/Doses(Washington).csv\", thousands=',')\n",
    "\n",
    "group = income_raw.groupby(\"LineCode\")\n",
    "\n",
    "counties = group.get_group(1)[\"GeoName\"].reset_index()\n",
    "del counties[\"index\"]\n",
    "\n",
    "\n",
    "income_data = group.get_group(1)[\"2019\"].reset_index()\n",
    "del income_data[\"index\"]\n",
    "\n",
    "population_data = group.get_group(2)[\"2019\"].reset_index()\n",
    "del population_data[\"index\"]\n",
    "\n",
    "county_data = pd.DataFrame(counties)\n",
    "county_data = county_data.rename(columns={\"GeoName\": \"County\"})\n",
    "\n",
    "county_data[\"Total Income\"] = income_data\n",
    "county_data[\"Population\"] = population_data\n",
    "\n",
    "\n",
    "#Remove NA from Dataset for accurate int datatype\n",
    "county_data = county_data.replace(\"(NA)\", \"1\")\n",
    "#Convert object data to int\n",
    "county_data[\"Total Income\"] = pd.to_numeric(county_data[\"Total Income\"])\n",
    "county_data[\"Population\"] = pd.to_numeric(county_data[\"Population\"])\n",
    "\n",
    "\n",
    "#Calculate Income per Capita\n",
    "percapitaincome = county_data.apply(lambda row: row[\"Total Income\"] / row[\"Population\"], axis = 1).reset_index()\n",
    "del percapitaincome[\"index\"]\n",
    "county_data[\"Income per Capita\"] = percapitaincome\n",
    "county_data.to_csv(\"CleanedIncomePerCapita.csv\")\n",
    "\n",
    "#Seperate County and State\n",
    "count_state_temp = county_data[\"County\"].str.split(\", \", n = 1, expand = True) \n",
    "county_data.drop(columns =[\"County\"], inplace = True) \n",
    "\n",
    "county_data[\"County\"] = count_state_temp[0]\n",
    "county_data[\"State\"] = count_state_temp[1]\n",
    "\n",
    "#filter only california counties\n",
    "cal_income = county_data[(county_data.State == \"CA\")]\n",
    "\n",
    "#filter only washington counties\n",
    "wash_income = county_data[(county_data.State == \"WA\")]\n",
    "\n",
    "merged_cal = cal_income.merge(vaccine_count_cal, \"inner\", \"County\")\n",
    "merged_cal.info()\n",
    "merged_cal.head()\n",
    "\n"
   ]
  },
  {
   "cell_type": "code",
   "execution_count": 31,
   "metadata": {},
   "outputs": [
    {
     "name": "stdout",
     "output_type": "stream",
     "text": [
      "<class 'pandas.core.frame.DataFrame'>\n",
      "Int64Index: 39 entries, 0 to 38\n",
      "Data columns (total 8 columns):\n",
      "Total Income                     39 non-null int64\n",
      "Population                       39 non-null int64\n",
      "Income per Capita                39 non-null float64\n",
      "County                           39 non-null object\n",
      "State                            39 non-null object\n",
      "Doses Administered               39 non-null int64\n",
      "People Initiating Vaccination    39 non-null int64\n",
      "People Fully Vaccinated          39 non-null int64\n",
      "dtypes: float64(1), int64(5), object(2)\n",
      "memory usage: 2.7+ KB\n"
     ]
    },
    {
     "data": {
      "text/html": [
       "<div>\n",
       "<style scoped>\n",
       "    .dataframe tbody tr th:only-of-type {\n",
       "        vertical-align: middle;\n",
       "    }\n",
       "\n",
       "    .dataframe tbody tr th {\n",
       "        vertical-align: top;\n",
       "    }\n",
       "\n",
       "    .dataframe thead th {\n",
       "        text-align: right;\n",
       "    }\n",
       "</style>\n",
       "<table border=\"1\" class=\"dataframe\">\n",
       "  <thead>\n",
       "    <tr style=\"text-align: right;\">\n",
       "      <th></th>\n",
       "      <th>Total Income</th>\n",
       "      <th>Population</th>\n",
       "      <th>Income per Capita</th>\n",
       "      <th>County</th>\n",
       "      <th>State</th>\n",
       "      <th>Doses Administered</th>\n",
       "      <th>People Initiating Vaccination</th>\n",
       "      <th>People Fully Vaccinated</th>\n",
       "    </tr>\n",
       "  </thead>\n",
       "  <tbody>\n",
       "    <tr>\n",
       "      <th>0</th>\n",
       "      <td>867839</td>\n",
       "      <td>19983</td>\n",
       "      <td>43.428865</td>\n",
       "      <td>Adams</td>\n",
       "      <td>WA</td>\n",
       "      <td>3375</td>\n",
       "      <td>2097</td>\n",
       "      <td>685</td>\n",
       "    </tr>\n",
       "    <tr>\n",
       "      <th>1</th>\n",
       "      <td>1094225</td>\n",
       "      <td>22582</td>\n",
       "      <td>48.455628</td>\n",
       "      <td>Asotin</td>\n",
       "      <td>WA</td>\n",
       "      <td>4808</td>\n",
       "      <td>2625</td>\n",
       "      <td>978</td>\n",
       "    </tr>\n",
       "    <tr>\n",
       "      <th>2</th>\n",
       "      <td>10087552</td>\n",
       "      <td>204390</td>\n",
       "      <td>49.354430</td>\n",
       "      <td>Benton</td>\n",
       "      <td>WA</td>\n",
       "      <td>41142</td>\n",
       "      <td>24261</td>\n",
       "      <td>7685</td>\n",
       "    </tr>\n",
       "    <tr>\n",
       "      <th>3</th>\n",
       "      <td>4342733</td>\n",
       "      <td>77200</td>\n",
       "      <td>56.253018</td>\n",
       "      <td>Chelan</td>\n",
       "      <td>WA</td>\n",
       "      <td>31552</td>\n",
       "      <td>15869</td>\n",
       "      <td>6052</td>\n",
       "    </tr>\n",
       "    <tr>\n",
       "      <th>4</th>\n",
       "      <td>3700741</td>\n",
       "      <td>77331</td>\n",
       "      <td>47.855853</td>\n",
       "      <td>Clallam</td>\n",
       "      <td>WA</td>\n",
       "      <td>30843</td>\n",
       "      <td>20215</td>\n",
       "      <td>10663</td>\n",
       "    </tr>\n",
       "  </tbody>\n",
       "</table>\n",
       "</div>"
      ],
      "text/plain": [
       "   Total Income  Population  Income per Capita   County State  \\\n",
       "0        867839       19983          43.428865    Adams    WA   \n",
       "1       1094225       22582          48.455628   Asotin    WA   \n",
       "2      10087552      204390          49.354430   Benton    WA   \n",
       "3       4342733       77200          56.253018   Chelan    WA   \n",
       "4       3700741       77331          47.855853  Clallam    WA   \n",
       "\n",
       "   Doses Administered  People Initiating Vaccination  People Fully Vaccinated  \n",
       "0                3375                           2097                      685  \n",
       "1                4808                           2625                      978  \n",
       "2               41142                          24261                     7685  \n",
       "3               31552                          15869                     6052  \n",
       "4               30843                          20215                    10663  "
      ]
     },
     "execution_count": 31,
     "metadata": {},
     "output_type": "execute_result"
    }
   ],
   "source": [
    "merged_wash = wash_income.merge(vaccine_count_wash, \"inner\", \"County\")\n",
    "merged_wash = merged_wash.rename(columns = {\"Vaccine Doses Given\": \"Doses Administered\"})\n",
    "merged_wash.info()\n",
    "merged_wash.head()"
   ]
  },
  {
   "cell_type": "markdown",
   "metadata": {},
   "source": [
    "# Data Analysis & Results (EDA)"
   ]
  },
  {
   "cell_type": "markdown",
   "metadata": {},
   "source": [
    "Carry out EDA on your dataset(s); Describe in this section"
   ]
  },
  {
   "cell_type": "code",
   "execution_count": 28,
   "metadata": {},
   "outputs": [
    {
     "data": {
      "text/plain": [
       "[<matplotlib.lines.Line2D at 0x166f97097b8>]"
      ]
     },
     "execution_count": 28,
     "metadata": {},
     "output_type": "execute_result"
    },
    {
     "data": {
      "image/png": "[encoded data removed]",
      "text/plain": [
       "<Figure size 432x288 with 1 Axes>"
      ]
     },
     "metadata": {
      "needs_background": "light"
     },
     "output_type": "display_data"
    }
   ],
   "source": [
    "#histogram of california income per capita\n",
    "num_bins = 25\n",
    "n_cal, bins_cal, patches_cal = plt.hist(merged_cal[\"Income per Capita\"], num_bins, facecolor='blue', alpha=0.5)"
   ]
  },
  {
   "cell_type": "code",
   "execution_count": 29,
   "metadata": {},
   "outputs": [
    {
     "data": {
      "image/png": "[encoded data removed]",
      "text/plain": [
       "<Figure size 432x288 with 1 Axes>"
      ]
     },
     "metadata": {
      "needs_background": "light"
     },
     "output_type": "display_data"
    }
   ],
   "source": [
    "n_wash, bins_wash, patches_wash = plt.hist(merged_wash[\"Income per Capita\"], num_bins, facecolor='red', alpha=0.5)"
   ]
  },
  {
   "cell_type": "code",
   "execution_count": null,
   "metadata": {},
   "outputs": [],
   "source": []
  }
 ],
 "metadata": {
  "kernelspec": {
   "display_name": "Python 3",
   "language": "python",
   "name": "python3"
  },
  "language_info": {
   "codemirror_mode": {
    "name": "ipython",
    "version": 3
   },
   "file_extension": ".py",
   "mimetype": "text/x-python",
   "name": "python",
   "nbconvert_exporter": "python",
   "pygments_lexer": "ipython3",
   "version": "3.7.3"
  }
 },
 "nbformat": 4,
 "nbformat_minor": 2
}
