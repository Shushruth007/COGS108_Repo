{
 "cells": [
  {
   "cell_type": "markdown",
   "metadata": {},
   "source": [
    "# COGS 108 - Final Project (change this to your project's title)"
   ]
  },
  {
   "cell_type": "markdown",
   "metadata": {},
   "source": [
    "## Permissions\n",
    "\n",
    "Place an `X` in the appropriate bracket below to specify if you would like your group's project to be made available to the public. (Note that student names will be included (but PIDs will be scraped from any groups who include their PIDs).\n",
    "\n",
    "* [  ] YES - make available\n",
    "* [  ] NO - keep private"
   ]
  },
  {
   "cell_type": "markdown",
   "metadata": {},
   "source": [
    "# Overview"
   ]
  },
  {
   "cell_type": "markdown",
   "metadata": {},
   "source": [
    "*Fill in your overview here*"
   ]
  },
  {
   "cell_type": "markdown",
   "metadata": {},
   "source": [
    "# Names\n",
    "\n",
    "- Ant Man\n",
    "- Hulk\n",
    "- Iron Man\n",
    "- Thor\n",
    "- Wasp"
   ]
  },
  {
   "cell_type": "markdown",
   "metadata": {},
   "source": [
    "<a id='research_question'></a>\n",
    "# Research Question"
   ]
  },
  {
   "cell_type": "markdown",
   "metadata": {},
   "source": [
    "*Fill in your research question here*"
   ]
  },
  {
   "cell_type": "markdown",
   "metadata": {},
   "source": [
    "<a id='background'></a>\n",
    "\n",
    "## Background & Prior Work"
   ]
  },
  {
   "cell_type": "markdown",
   "metadata": {},
   "source": [
    "*Fill in your background and prior work here* \n",
    "\n",
    "References (include links):\n",
    "- 1)\n",
    "- 2)"
   ]
  },
  {
   "cell_type": "markdown",
   "metadata": {},
   "source": [
    "# Hypothesis\n"
   ]
  },
  {
   "cell_type": "markdown",
   "metadata": {},
   "source": [
    "*Fill in your hypotheses here*"
   ]
  },
  {
   "cell_type": "markdown",
   "metadata": {},
   "source": [
    "# Dataset(s)"
   ]
  },
  {
   "cell_type": "markdown",
   "metadata": {},
   "source": [
    "*Fill in your dataset information here*\n",
    "\n",
    "(Copy this information for each dataset)\n",
    "- Dataset Name:\n",
    "- Link to the dataset:\n",
    "- Number of observations:\n",
    "\n",
    "1-2 sentences describing each dataset. \n",
    "\n",
    "If you plan to use multiple datasets, add 1-2 sentences about how you plan to combine these datasets."
   ]
  },
  {
   "cell_type": "markdown",
   "metadata": {},
   "source": [
    "# Setup"
   ]
  },
  {
   "cell_type": "code",
   "execution_count": 1,
   "metadata": {},
   "outputs": [],
   "source": [
    "## YOUR CODE HERE\n",
    "import pandas as pd\n",
    "import matplotlib.pyplot as plt\n",
    "import scipy.stats as stat"
   ]
  },
  {
   "cell_type": "markdown",
   "metadata": {},
   "source": [
    "# Data Cleaning"
   ]
  },
  {
   "cell_type": "markdown",
   "metadata": {},
   "source": [
    "Describe your data cleaning steps here."
   ]
  },
  {
   "cell_type": "code",
   "execution_count": 2,
   "metadata": {},
   "outputs": [],
   "source": [
    "income_raw = pd.read_csv(\"Datasets/IncomeByCounty.csv\")\n",
    "vaccine_count_cal = pd.read_csv(\"Datasets/DosesAdminsteredbyCounty(California).csv\", thousands=',')\n",
    "vaccine_count_wash = pd.read_csv(\"Datasets/Doses(Washington).csv\", thousands=',')\n",
    "vaccine_count_geor = pd.read_csv(\"Datasets/Georgia Doses.csv\", thousands=',')\n",
    "vaccine_count_ohio = pd.read_csv(\"Datasets/Ohio Doses.csv\", thousands=',')\n",
    "vaccine_count_ariz = pd.read_csv(\"Datasets/Arizona Doses.csv\", thousands=',')\n",
    "\n",
    "group = income_raw.groupby(\"LineCode\")\n",
    "\n",
    "counties = group.get_group(1)[\"GeoName\"].reset_index()\n",
    "del counties[\"index\"]\n",
    "\n",
    "\n",
    "income_data = group.get_group(1)[\"2019\"].reset_index()\n",
    "del income_data[\"index\"]\n",
    "\n",
    "population_data = group.get_group(2)[\"2019\"].reset_index()\n",
    "del population_data[\"index\"]\n",
    "\n",
    "county_data = pd.DataFrame(counties)\n",
    "county_data = county_data.rename(columns={\"GeoName\": \"County\"})\n",
    "\n",
    "county_data[\"Total Income\"] = income_data\n",
    "county_data[\"Population\"] = population_data\n",
    "\n",
    "\n",
    "#Remove NA from Dataset for accurate int datatype\n",
    "county_data = county_data.replace(\"(NA)\", \"1\")\n",
    "#Convert object data to int\n",
    "county_data[\"Total Income\"] = pd.to_numeric(county_data[\"Total Income\"])\n",
    "county_data[\"Population\"] = pd.to_numeric(county_data[\"Population\"])\n",
    "\n",
    "\n",
    "#Calculate Income per Capita\n",
    "percapitaincome = county_data.apply(lambda row: row[\"Total Income\"] / row[\"Population\"], axis = 1).reset_index()\n",
    "del percapitaincome[\"index\"]\n",
    "county_data[\"Income per Capita\"] = percapitaincome\n",
    "county_data.to_csv(\"CleanedIncomePerCapita.csv\")\n",
    "\n",
    "#Seperate County and State\n",
    "count_state_temp = county_data[\"County\"].str.split(\", \", n = 1, expand = True) \n",
    "county_data.drop(columns =[\"County\"], inplace = True) \n",
    "\n",
    "county_data[\"County\"] = count_state_temp[0]\n",
    "county_data[\"State\"] = count_state_temp[1]\n",
    "\n",
    "#filter only california counties\n",
    "cal_income = county_data[(county_data.State == \"CA\")]\n",
    "\n",
    "#filter only washington counties\n",
    "wash_income = county_data[(county_data.State == \"WA\")]\n",
    "\n",
    "#filter only arizona counties\n",
    "ariz_income = county_data[(county_data.State == \"AZ\") | ((county_data.State == \"AZ*\"))]\n",
    "\n",
    "#filter only ohio counties\n",
    "ohio_income = county_data[(county_data.State == \"OH\")]\n",
    "\n",
    "#filter only georgia counties\n",
    "geor_income = county_data[(county_data.State == \"GA\")]"
   ]
  },
  {
   "cell_type": "code",
   "execution_count": null,
   "metadata": {},
   "outputs": [],
   "source": [
    "merged_cal = cal_income.merge(vaccine_count_cal, \"inner\", \"County\")\n",
    "merged_cal.info()\n",
    "merged_cal.head()"
   ]
  },
  {
   "cell_type": "code",
   "execution_count": null,
   "metadata": {},
   "outputs": [],
   "source": [
    "merged_wash = wash_income.merge(vaccine_count_wash, \"inner\", \"County\")\n",
    "merged_wash = merged_wash.rename(columns = {\"Vaccine Doses Given\": \"Doses Administered\"})\n",
    "merged_wash.info()\n",
    "merged_wash.head()"
   ]
  },
  {
   "cell_type": "code",
   "execution_count": null,
   "metadata": {},
   "outputs": [],
   "source": []
  },
  {
   "cell_type": "markdown",
   "metadata": {},
   "source": [
    "# Data Analysis & Results"
   ]
  },
  {
   "cell_type": "markdown",
   "metadata": {},
   "source": [
    "Include cells that describe the steps in your data analysis."
   ]
  },
  {
   "cell_type": "code",
   "execution_count": 3,
   "metadata": {},
   "outputs": [],
   "source": [
    "## YOUR CODE HERE\n",
    "## FEEL FREE TO ADD MULTIPLE CELLS PER SECTION"
   ]
  },
  {
   "cell_type": "markdown",
   "metadata": {},
   "source": [
    "# Ethics & Privacy"
   ]
  },
  {
   "cell_type": "markdown",
   "metadata": {},
   "source": [
    "*Fill in your ethics & privacy discussion here*"
   ]
  },
  {
   "cell_type": "markdown",
   "metadata": {},
   "source": [
    "# Conclusion & Discussion"
   ]
  },
  {
   "cell_type": "markdown",
   "metadata": {},
   "source": [
    "*Fill in your discussion information here*"
   ]
  },
  {
   "cell_type": "markdown",
   "metadata": {},
   "source": [
    "# Team Contributions"
   ]
  },
  {
   "cell_type": "markdown",
   "metadata": {},
   "source": [
    "*Specify who in your group worked on which parts of the project.*"
   ]
  }
 ],
 "metadata": {
  "kernelspec": {
   "display_name": "Python 3",
   "language": "python",
   "name": "python3"
  },
  "language_info": {
   "codemirror_mode": {
    "name": "ipython",
    "version": 3
   },
   "file_extension": ".py",
   "mimetype": "text/x-python",
   "name": "python",
   "nbconvert_exporter": "python",
   "pygments_lexer": "ipython3",
   "version": "3.7.3"
  }
 },
 "nbformat": 4,
 "nbformat_minor": 2
}
